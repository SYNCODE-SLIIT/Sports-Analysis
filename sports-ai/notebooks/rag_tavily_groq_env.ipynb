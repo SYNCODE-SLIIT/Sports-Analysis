{
 "cells": [
  {
   "cell_type": "markdown",
   "id": "0ccb9c6b",
   "metadata": {},
   "source": [
    "# RAG Notebook: Tavily (via `TAVIL_API_KEY`) + Groq (`GROQ_API_KEY`)\n",
    "\n",
    "This notebook:\n",
    "- Loads **`TAVIL_API_KEY`** (or fallback to `TAVILY_API_KEY`) and **`GROQ_API_KEY`** from your environment.\n",
    "- Runs a web search using Tavily.\n",
    "- Normalizes results, builds context, and asks **Groq** to generate a concise answer **with citations**."
   ]
  },
  {
   "cell_type": "markdown",
   "id": "cfe04bec",
   "metadata": {},
   "source": [
    "## 1) Install dependencies (if needed)"
   ]
  },
  {
   "cell_type": "code",
   "execution_count": null,
   "id": "0fa25c50",
   "metadata": {},
   "outputs": [],
   "source": [
    "# If running locally, uncomment to install:\n",
    "# %pip install requests python-dotenv"
   ]
  },
  {
   "cell_type": "markdown",
   "id": "2b8cac10",
   "metadata": {},
   "source": [
    "## 2) Load environment & set config"
   ]
  },
  {
   "cell_type": "code",
   "execution_count": 18,
   "id": "287dcc0a",
   "metadata": {},
   "outputs": [
    {
     "name": "stdout",
     "output_type": "stream",
     "text": [
      "Groq key found?  True\n",
      "Grok (xAI) key found?  True\n"
     ]
    }
   ],
   "source": [
    "import os, requests, json\n",
    "from dotenv import load_dotenv\n",
    "\n",
    "load_dotenv()  # Reads .env if present\n",
    "\n",
    "# Read keys (supports your variable names exactly)\n",
    "TAVIL_API_KEY   = os.getenv(\"TAVIL_API_KEY\", \"\")\n",
    "# Transparent fallback in case you also have TAVILY_API_KEY set\n",
    "# Keys (set whichever you have)\n",
    "GROQ_API_KEY = os.getenv(\"GROQ_API_KEY\", \"\")\n",
    "GROK_API_KEY = os.getenv(\"GROK_API_KEY\", \"\")  # xAI\n",
    "\n",
    "GROK_MODEL = os.getenv(\"GROK_MODEL\", \"grok-2-latest\")\n",
    "\n",
    "def have(provider:str) -> bool:\n",
    "    return (provider == \"groq\" and bool(GROQ_API_KEY)) or (provider == \"grok\" and bool(GROK_API_KEY))\n",
    "\n",
    "print(\"Groq key found? \", bool(GROQ_API_KEY))\n",
    "print(\"Grok (xAI) key found? \", bool(GROK_API_KEY))"
   ]
  },
  {
   "cell_type": "markdown",
   "id": "941f3053",
   "metadata": {},
   "source": [
    "## 3) Helpers: HTTP helpers + JSON pretty"
   ]
  },
  {
   "cell_type": "code",
   "execution_count": 19,
   "id": "39b1ee60",
   "metadata": {},
   "outputs": [],
   "source": [
    "def pjson(obj):\n",
    "    print(json.dumps(obj, indent=2, ensure_ascii=False))\n",
    "\n",
    "def safe_post(url, **kwargs):\n",
    "    try:\n",
    "        r = requests.post(url, timeout=45, **kwargs)\n",
    "        r.raise_for_status()\n",
    "        return r\n",
    "    except Exception as e:\n",
    "        print(f\"[POST ERROR] {url} -> {e}\")\n",
    "        if hasattr(e, 'response') and e.response is not None:\n",
    "            print(e.response.text)\n",
    "        return None\n",
    "\n",
    "def safe_get(url, **kwargs):\n",
    "    try:\n",
    "        r = requests.get(url, timeout=45, **kwargs)\n",
    "        r.raise_for_status()\n",
    "        return r\n",
    "    except Exception as e:\n",
    "        print(f\"[GET ERROR] {url} -> {e}\")\n",
    "        if hasattr(e, 'response') and e.response is not None:\n",
    "            print(e.response.text)\n",
    "        return None"
   ]
  },
  {
   "cell_type": "markdown",
   "id": "a131f991",
   "metadata": {},
   "source": [
    "## 4) Tavily search (uses `TAVIL_API_KEY`)"
   ]
  },
  {
   "cell_type": "code",
   "execution_count": 20,
   "id": "63ba2651",
   "metadata": {},
   "outputs": [
    {
     "ename": "RuntimeError",
     "evalue": "Missing TAVIL_API_KEY (or TAVILY_API_KEY). Add it to your environment or .env.",
     "output_type": "error",
     "traceback": [
      "\u001b[31m---------------------------------------------------------------------------\u001b[39m",
      "\u001b[31mRuntimeError\u001b[39m                              Traceback (most recent call last)",
      "\u001b[36mCell\u001b[39m\u001b[36m \u001b[39m\u001b[32mIn[20]\u001b[39m\u001b[32m, line 12\u001b[39m\n\u001b[32m     10\u001b[39m \u001b[38;5;66;03m# Quick test (change the query as you like)\u001b[39;00m\n\u001b[32m     11\u001b[39m query = \u001b[33m\"\u001b[39m\u001b[33mtoday\u001b[39m\u001b[33m'\u001b[39m\u001b[33ms La Liga matches\u001b[39m\u001b[33m\"\u001b[39m\n\u001b[32m---> \u001b[39m\u001b[32m12\u001b[39m tav = \u001b[43mtavily_search\u001b[49m\u001b[43m(\u001b[49m\u001b[43mquery\u001b[49m\u001b[43m,\u001b[49m\u001b[43m \u001b[49m\u001b[43mmax_results\u001b[49m\u001b[43m=\u001b[49m\u001b[32;43m5\u001b[39;49m\u001b[43m)\u001b[49m\n\u001b[32m     13\u001b[39m pjson(tav)\n",
      "\u001b[36mCell\u001b[39m\u001b[36m \u001b[39m\u001b[32mIn[20]\u001b[39m\u001b[32m, line 3\u001b[39m, in \u001b[36mtavily_search\u001b[39m\u001b[34m(query, max_results)\u001b[39m\n\u001b[32m      1\u001b[39m \u001b[38;5;28;01mdef\u001b[39;00m\u001b[38;5;250m \u001b[39m\u001b[34mtavily_search\u001b[39m(query: \u001b[38;5;28mstr\u001b[39m, max_results: \u001b[38;5;28mint\u001b[39m = \u001b[32m5\u001b[39m):\n\u001b[32m      2\u001b[39m     \u001b[38;5;28;01mif\u001b[39;00m \u001b[38;5;129;01mnot\u001b[39;00m TAVIL_API_KEY:\n\u001b[32m----> \u001b[39m\u001b[32m3\u001b[39m         \u001b[38;5;28;01mraise\u001b[39;00m \u001b[38;5;167;01mRuntimeError\u001b[39;00m(\u001b[33m\"\u001b[39m\u001b[33mMissing TAVIL_API_KEY (or TAVILY_API_KEY). Add it to your environment or .env.\u001b[39m\u001b[33m\"\u001b[39m)\n\u001b[32m      4\u001b[39m     url = \u001b[33m\"\u001b[39m\u001b[33mhttps://api.tavily.com/search\u001b[39m\u001b[33m\"\u001b[39m\n\u001b[32m      5\u001b[39m     headers = {\u001b[33m\"\u001b[39m\u001b[33mAuthorization\u001b[39m\u001b[33m\"\u001b[39m: \u001b[33mf\u001b[39m\u001b[33m\"\u001b[39m\u001b[33mBearer \u001b[39m\u001b[38;5;132;01m{\u001b[39;00mTAVIL_API_KEY\u001b[38;5;132;01m}\u001b[39;00m\u001b[33m\"\u001b[39m}\n",
      "\u001b[31mRuntimeError\u001b[39m: Missing TAVIL_API_KEY (or TAVILY_API_KEY). Add it to your environment or .env."
     ]
    }
   ],
   "source": [
    "def tavily_search(query: str, max_results: int = 5):\n",
    "    if not TAVIL_API_KEY:\n",
    "        raise RuntimeError(\"Missing TAVIL_API_KEY (or TAVILY_API_KEY). Add it to your environment or .env.\")\n",
    "    url = \"https://api.tavily.com/search\"\n",
    "    headers = {\"Authorization\": f\"Bearer {TAVIL_API_KEY}\"}\n",
    "    payload = {\"query\": query, \"max_results\": max_results}\n",
    "    r = safe_post(url, headers=headers, json=payload)\n",
    "    return r.json() if r else {}\n",
    "\n",
    "# Quick test (change the query as you like)\n",
    "query = \"today's La Liga matches\"\n",
    "tav = tavily_search(query, max_results=5)\n",
    "pjson(tav)"
   ]
  },
  {
   "cell_type": "markdown",
   "id": "21319fc0",
   "metadata": {},
   "source": [
    "## 5) Normalize results & build a compact context for RAG"
   ]
  },
  {
   "cell_type": "code",
   "execution_count": 6,
   "id": "f2d2ddf7",
   "metadata": {},
   "outputs": [
    {
     "name": "stdout",
     "output_type": "stream",
     "text": [
      "La Liga fixtures | Football La Liga · 08:00 EST. Levante. v. Celta Vigo · 10:15 EST. Alaves. v. Espanyol · 12:00 EST. Real Betis. v. Mallorca · 12:30 EST. Barcelona. v. Elche Source: https://www.theguardian.com/football/laligafootball/fixtures\n",
      "\n",
      "---\n",
      "\n",
      "Spanish La Liga - Scores & Fixtures - Football Sunday 26th October · Mallorca versus Levante kick off 13:00. MallorcaMallorcaMallorca. 13:00 13:00 · Real Madrid versus Barcelona kick off 15:15. Real Madrid Source: https://www.bbc.com/sport/football/spanish-la-liga/scores-fixtures\n",
      "\n",
      "---\n",
      "\n",
      "Spanish La Liga Scores & Fixtures Sunday 19th October · View fixture. Elche are scheduled to play Athletic Bilbao . · View fixture. Celta Vigo are scheduled to play Real Sociedad . · View fixture. Source: https://www.skysports.com/la-liga-scores-fixtures\n",
      "\n",
      "---\n",
      "\n",
      "Spain LaLiga Live Scores | Football LiveScore provides you with all the latest football scores from today's LaLiga matches. Real time live football scores and fixtures from Spain LaLiga. Keep Source: ht...\n"
     ]
    }
   ],
   "source": [
    "from typing import List, Dict\n",
    "\n",
    "def normalize_tavily(tav: Dict) -> List[Dict]:\n",
    "    items = []\n",
    "    if isinstance(tav, dict):\n",
    "        for r in tav.get(\"results\", []):\n",
    "            items.append({\n",
    "                \"source\": \"tavily\",\n",
    "                \"title\": r.get(\"title\"),\n",
    "                \"url\": r.get(\"url\"),\n",
    "                \"snippet\": r.get(\"content\") or \"\",\n",
    "                \"score\": r.get(\"score\")\n",
    "            })\n",
    "    # Deduplicate by URL\n",
    "    uniq, seen = [], set()\n",
    "    for it in items:\n",
    "        u = it.get(\"url\")\n",
    "        if u and u not in seen:\n",
    "            uniq.append(it)\n",
    "            seen.add(u)\n",
    "    return uniq\n",
    "\n",
    "def build_context_from_items(items: List[Dict], top_k: int = 5) -> str:\n",
    "    blocks = []\n",
    "    for r in items[:top_k]:\n",
    "        title = r.get(\"title\") or \"\"\n",
    "        url = r.get(\"url\") or \"\"\n",
    "        snip = r.get(\"snippet\") or \"\"\n",
    "        blocks.append(f\"{title} {snip} Source: {url}\")\n",
    "    return \"\\n\\n---\\n\\n\".join(blocks)\n",
    "\n",
    "norm_items = normalize_tavily(tav)\n",
    "context = build_context_from_items(norm_items, top_k=5)\n",
    "print(context[:1000] + (\"...\" if len(context) > 1000 else \"\"))"
   ]
  },
  {
   "cell_type": "markdown",
   "id": "3550d639",
   "metadata": {},
   "source": [
    "## 6) Ask Groq (uses `GROQ_API_KEY`) with RAG context"
   ]
  },
  {
   "cell_type": "code",
   "execution_count": 21,
   "id": "d4d1abc6",
   "metadata": {},
   "outputs": [],
   "source": [
    "# --- UNIFIED LLM CALLER ---\n",
    "def ask_llm(question: str, context: str, provider: str = \"groq\", temperature: float = 0.2) -> str:\n",
    "    \"\"\"\n",
    "    provider: 'groq' or 'grok'\n",
    "    Uses OpenAI-compatible /v1/chat/completions for both vendors.\n",
    "    \"\"\"\n",
    "    system_msg = (\n",
    "        \"You are a concise sports assistant. Use ONLY the provided context for factual claims. \"\n",
    "        \"Include a short citations list with exact source URLs used. \"\n",
    "        \"If the context lacks the answer, say you do not have enough information.\"\n",
    "    )\n",
    "    messages = [\n",
    "        {\"role\": \"system\", \"content\": system_msg},\n",
    "        {\"role\": \"user\", \"content\": f\"Context:\\n{context}\\n\\nQuestion:\\n{question}\"}\n",
    "    ]\n",
    "\n",
    "    if provider == \"groq\":\n",
    "        if not GROQ_API_KEY:\n",
    "            return \"[ERR] GROQ_API_KEY is missing.\"\n",
    "        url = \"https://api.groq.com/openai/v1/chat/completions\"\n",
    "        headers = {\"Authorization\": f\"Bearer {GROQ_API_KEY}\", \"Content-Type\": \"application/json\"}\n",
    "        payload = {\"model\": GROQ_MODEL, \"messages\": messages, \"temperature\": temperature, \"stream\": False}\n",
    "\n",
    "    elif provider == \"grok\":  # xAI\n",
    "        if not GROK_API_KEY:\n",
    "            return \"[ERR] GROK_API_KEY is missing.\"\n",
    "        url = \"https://api.x.ai/v1/chat/completions\"\n",
    "        headers = {\"Authorization\": f\"Bearer {GROK_API_KEY}\", \"Content-Type\": \"application/json\"}\n",
    "        payload = {\"model\": GROK_MODEL, \"messages\": messages, \"temperature\": temperature, \"stream\": False}\n",
    "\n",
    "    else:\n",
    "        return \"[ERR] provider must be 'groq' or 'grok'.\"\n",
    "\n",
    "    try:\n",
    "        r = requests.post(url, headers=headers, json=payload, timeout=60)\n",
    "        # Helpful error surface\n",
    "        if r.status_code != 200:\n",
    "            return f\"[ERR {r.status_code}] {r.text}\"\n",
    "        data = r.json()\n",
    "        # Both APIs return OpenAI-like shape\n",
    "        return data[\"choices\"][0][\"message\"][\"content\"]\n",
    "    except Exception as e:\n",
    "        return f\"[ERR] {e}\""
   ]
  },
  {
   "cell_type": "code",
   "execution_count": 10,
   "id": "984b1f67",
   "metadata": {},
   "outputs": [],
   "source": [
    "# --- OPTIONAL: Groq SDK path (matches your summarizer.py style) ---\n",
    "try:\n",
    "    from groq import Groq\n",
    "    _groq_ok = True\n",
    "except Exception:\n",
    "    _groq_ok = False\n",
    "    print(\"[INFO] groq SDK not installed. You can pip install groq or stick to the HTTP version.\")\n",
    "\n",
    "def ask_groq_sdk(question: str, context: str, model: str = None, temperature: float = 0.2) -> str:\n",
    "    if not _groq_ok:\n",
    "        return \"[ERR] groq SDK not installed.\"\n",
    "    if not GROQ_API_KEY:\n",
    "        return \"[ERR] GROQ_API_KEY is missing.\"\n",
    "    if model is None:\n",
    "        model = GROQ_MODEL\n",
    "    client = Groq(api_key=GROQ_API_KEY)\n",
    "\n",
    "    system_msg = (\n",
    "        \"You are a concise sports assistant. Use ONLY the provided context for factual claims. \"\n",
    "        \"Include a short citations list with exact source URLs used. \"\n",
    "        \"If the context lacks the answer, say you do not have enough information.\"\n",
    "    )\n",
    "    try:\n",
    "        chat = client.chat.completions.create(\n",
    "            model=model,\n",
    "            messages=[\n",
    "                {\"role\": \"system\", \"content\": system_msg},\n",
    "                {\"role\": \"user\", \"content\": f\"Context:\\n{context}\\n\\nQuestion:\\n{question}\"}\n",
    "            ],\n",
    "            temperature=temperature,\n",
    "            stream=False\n",
    "        )\n",
    "        return chat.choices[0].message.content\n",
    "    except Exception as e:\n",
    "        return f\"[ERR] {e}\""
   ]
  },
  {
   "cell_type": "code",
   "execution_count": 22,
   "id": "9e2f79b6",
   "metadata": {},
   "outputs": [
    {
     "name": "stdout",
     "output_type": "stream",
     "text": [
      "Using provider: groq\n",
      "Today's La Liga matches include:\n",
      "- Levante v. Celta Vigo \n",
      "- Alaves v. Espanyol \n",
      "- Real Betis v. Mallorca \n",
      "- Barcelona v. Elche \n",
      "\n",
      "Citations:\n",
      "1. https://www.theguardian.com/football/laligafootball/fixtures\n",
      "2. https://www.bbc.com/sport/football/spanish-la-liga/scores-fixtures\n",
      "3. https://www.skysports.com/la-liga-scores-fixtures\n",
      "4. https://www.livescore.com/en/football/spain/laliga/\n",
      "5. https://www.fotmob.com/leagues/87/overview/laliga\n"
     ]
    }
   ],
   "source": [
    "question = \"Summarize today's La Liga matches and provide links to sources.\"\n",
    "\n",
    "# Pick the provider you actually have a key for:\n",
    "provider = \"groq\" if have(\"groq\") else \"grok\"\n",
    "\n",
    "print(\"Using provider:\", provider)\n",
    "ans = ask_llm(question, context=context, provider=provider)\n",
    "print(ans)"
   ]
  },
  {
   "cell_type": "code",
   "execution_count": null,
   "id": "635f3657",
   "metadata": {},
   "outputs": [],
   "source": []
  }
 ],
 "metadata": {
  "kernelspec": {
   "display_name": ".venv",
   "language": "python",
   "name": "python3"
  },
  "language_info": {
   "codemirror_mode": {
    "name": "ipython",
    "version": 3
   },
   "file_extension": ".py",
   "mimetype": "text/x-python",
   "name": "python",
   "nbconvert_exporter": "python",
   "pygments_lexer": "ipython3",
   "version": "3.12.7"
  }
 },
 "nbformat": 4,
 "nbformat_minor": 5
}
