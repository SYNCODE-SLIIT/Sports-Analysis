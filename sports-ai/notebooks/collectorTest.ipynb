{
 "cells": [
  {
   "cell_type": "code",
   "execution_count": 2,
   "id": "53e73ccf",
   "metadata": {},
   "outputs": [
    {
     "name": "stdout",
     "output_type": "stream",
     "text": [
      "Using: https://www.thesportsdb.com/api/v1/json/3\n"
     ]
    }
   ],
   "source": [
    "import os, requests, time\n",
    "from pprint import pprint\n",
    "\n",
    "# Use your key if you have one; \"3\" is the public demo key; \"123\" also works for v1\n",
    "API_KEY = os.getenv(\"THESPORTSDB_KEY\", \"3\")\n",
    "BASE_URL = f\"https://www.thesportsdb.com/api/v1/json/{API_KEY}\"\n",
    "\n",
    "def GET(path, params=None, timeout=15):\n",
    "    url = f\"{BASE_URL}/{path.lstrip('/')}\"\n",
    "    r = requests.get(url, params=params or {}, timeout=timeout)\n",
    "    r.raise_for_status()\n",
    "    data = r.json()\n",
    "    # TheSportsDB often returns {\"x\": None} when empty → normalize to {}\n",
    "    if isinstance(data, dict) and data and all(v is None for v in data.values()):\n",
    "        return {}\n",
    "    return data\n",
    "\n",
    "print(\"Using:\", BASE_URL)"
   ]
  },
  {
   "cell_type": "markdown",
   "id": "4a6343f2",
   "metadata": {},
   "source": [
    "## List sports (what your key can actually see)"
   ]
  },
  {
   "cell_type": "code",
   "execution_count": 3,
   "id": "3d796c8d",
   "metadata": {},
   "outputs": [
    {
     "name": "stdout",
     "output_type": "stream",
     "text": [
      "Total sports available: 1\n",
      "- Soccer\n"
     ]
    }
   ],
   "source": [
    "sports = (GET(\"all_sports.php\").get(\"sports\") or [])\n",
    "print(\"Total sports available:\", len(sports))\n",
    "for s in sports:\n",
    "    print(\"-\", s.get(\"strSport\"))"
   ]
  },
  {
   "cell_type": "markdown",
   "id": "e2cac2f2",
   "metadata": {},
   "source": [
    "## List all leagues (optionally filter by sport)"
   ]
  },
  {
   "cell_type": "code",
   "execution_count": 5,
   "id": "b8c6acb6",
   "metadata": {},
   "outputs": [
    {
     "name": "stdout",
     "output_type": "stream",
     "text": [
      "Total leagues (all sports): 50\n",
      "Soccer leagues: 34\n",
      "- 4328 English Premier League\n",
      "- 4329 English League Championship\n",
      "- 4330 Scottish Premier League\n",
      "- 4331 German Bundesliga\n",
      "- 4332 Italian Serie A\n",
      "- 4334 French Ligue 1\n",
      "- 4335 Spanish La Liga\n",
      "- 4336 Greek Superleague Greece\n",
      "- 4337 Dutch Eredivisie\n",
      "- 4338 Belgian Pro League\n",
      "- 4339 Turkish Super Lig\n",
      "- 4340 Danish Superliga\n",
      "- 4344 Portuguese Primeira Liga\n",
      "- 4346 American Major League Soccer\n",
      "- 4347 Swedish Allsvenskan\n",
      "- 4350 Mexican Primera League\n",
      "- 4351 Brazilian Serie A\n",
      "- 4354 Ukrainian Premier League\n",
      "- 4355 Russian Football Premier League\n",
      "- 4356 Australian A-League\n",
      "- 4358 Norwegian Eliteserien\n",
      "- 4359 Chinese Super League\n",
      "- 4367 _No League\n",
      "- 4394 Italian Serie B\n",
      "- 4395 Scottish Championship\n",
      "- 4396 English League 1\n",
      "- 4397 English League 2\n",
      "- 4398 Italian Serie C Girone C\n",
      "- 4399 German 2. Bundesliga\n",
      "- 4400 Spanish La Liga 2\n",
      "- 4401 French Ligue 2\n",
      "- 4403 Swedish Superettan\n",
      "- 4404 Brazilian Serie B\n",
      "- 4406 Argentinian Primera Division\n"
     ]
    }
   ],
   "source": [
    "ALL_LEAGUES = (GET(\"all_leagues.php\").get(\"leagues\") or [])\n",
    "print(\"Total leagues (all sports):\", len(ALL_LEAGUES))\n",
    "\n",
    "# Filter helper\n",
    "def leagues_for_sport(sport_name: str):\n",
    "    s = sport_name.strip().lower()\n",
    "    return [L for L in ALL_LEAGUES if (L.get(\"strSport\") or \"\").strip().lower() == s]\n",
    "\n",
    "# Example: Soccer leagues\n",
    "SOCCER_LEAGUES = leagues_for_sport(\"Soccer\")\n",
    "print(\"Soccer leagues:\", len(SOCCER_LEAGUES))\n",
    "for L in SOCCER_LEAGUES[:34]:\n",
    "    print(\"-\", L[\"idLeague\"], L[\"strLeague\"])"
   ]
  },
  {
   "cell_type": "markdown",
   "id": "bc7d4887",
   "metadata": {},
   "source": [
    "## (Optional) Leagues by sport + country using the search endpoint"
   ]
  },
  {
   "cell_type": "code",
   "execution_count": 6,
   "id": "a586cecf",
   "metadata": {},
   "outputs": [
    {
     "name": "stdout",
     "output_type": "stream",
     "text": [
      "England + Soccer leagues: 0\n"
     ]
    }
   ],
   "source": [
    "def leagues_by_country_and_sport(country: str, sport: str):\n",
    "    data = GET(\"search_all_leagues.php\", {\"c\": country, \"s\": sport}) or {}\n",
    "    return data.get(\"countrys\") or []\n",
    "\n",
    "eng_soc = leagues_by_country_and_sport(\"England\", \"Soccer\")\n",
    "print(\"England + Soccer leagues:\", len(eng_soc))\n",
    "for L in eng_soc:\n",
    "    print(\"-\", L[\"idLeague\"], L[\"strLeague\"])"
   ]
  },
  {
   "cell_type": "markdown",
   "id": "75b591ad",
   "metadata": {},
   "source": [
    "## Teams in a league"
   ]
  },
  {
   "cell_type": "code",
   "execution_count": 8,
   "id": "633fe663",
   "metadata": {},
   "outputs": [
    {
     "name": "stdout",
     "output_type": "stream",
     "text": [
      "Teams in league 4328: 24\n",
      "- 133606 Bolton Wanderers\n",
      "- 133607 Wigan Athletic\n",
      "- 133618 Blackpool\n",
      "- 133620 Doncaster Rovers\n",
      "- 133630 Barnsley\n",
      "- 133631 Peterborough United\n",
      "- 133633 Reading\n",
      "- 133637 Cardiff City\n",
      "- 133836 Plymouth Argyle\n",
      "- 133888 Luton Town\n",
      "- 133932 Huddersfield Town\n",
      "- 134189 Bradford City\n",
      "- 134231 Rotherham United\n",
      "- 134241 AFC Wimbledon\n",
      "- 134258 Stockport County\n",
      "- 134365 Exeter City\n",
      "- 134367 Leyton Orient\n",
      "- 134370 Northampton Town\n",
      "- 134375 Port Vale\n",
      "- 134376 Burton Albion\n",
      "- 134378 Stevenage\n",
      "- 134381 Mansfield Town\n",
      "- 134382 Wycombe Wanderers\n",
      "- 135900 Lincoln City\n"
     ]
    }
   ],
   "source": [
    "LEAGUE_ID = \"4328\"   # English Premier League (example)\n",
    "teams_resp = GET(\"lookup_all_teams.php\", {\"id\": LEAGUE_ID})\n",
    "teams = teams_resp.get(\"teams\") or []\n",
    "print(f\"Teams in league {LEAGUE_ID}:\", len(teams))\n",
    "for t in teams[:24]:\n",
    "    print(\"-\", t[\"idTeam\"], t[\"strTeam\"])"
   ]
  },
  {
   "cell_type": "markdown",
   "id": "18e32e45",
   "metadata": {},
   "source": [
    "## Team lookup + players (squad)"
   ]
  },
  {
   "cell_type": "code",
   "execution_count": 9,
   "id": "d9e38f71",
   "metadata": {},
   "outputs": [
    {
     "name": "stdout",
     "output_type": "stream",
     "text": [
      "Team snapshot:\n",
      "{'idTeam': '133604',\n",
      " 'intFormedYear': '1892',\n",
      " 'strCountry': 'England',\n",
      " 'strLeague': 'English Premier League',\n",
      " 'strStadium': 'Emirates Stadium',\n",
      " 'strTeam': 'Arsenal',\n",
      " 'strTeamBadge': None,\n",
      " 'strWebsite': 'www.arsenal.com'}\n",
      "\n",
      "Players in team: 28\n",
      "- 34163698 Ben White | Right-Back\n",
      "- 34169884 Bukayo Saka | Right Winger\n",
      "- 34164499 Christian Nørgaard | Defensive Midfield\n",
      "- 34194118 Cristhian Mosquera | Centre-Back\n",
      "- 34148681 David Raya | Goalkeeper\n",
      "- 34161584 Declan Rice | Defensive Midfield\n",
      "- 34200626 Ethan Nwaneri | Attacking Midfield\n",
      "- 34160962 Gabriel Jesus | Centre-Forward\n",
      "- 34172252 Gabriel Magalhães | Centre-Back\n",
      "- 34169883 Gabriel Martinelli | Left Wing\n",
      "- 34193328 Jakub Kiwior | Centre-Back\n",
      "- 34172505 Jurrien Timber | Centre-Back\n"
     ]
    }
   ],
   "source": [
    "# Pick a team id (Arsenal is often 133604; adjust if not present)\n",
    "TEAM_ID = teams[0][\"idTeam\"] if teams else \"133604\"\n",
    "\n",
    "team_detail = (GET(\"lookupteam.php\", {\"id\": TEAM_ID}).get(\"teams\") or [{}])[0]\n",
    "print(\"Team snapshot:\")\n",
    "pprint({k: team_detail.get(k) for k in [\n",
    "    \"idTeam\",\"strTeam\",\"strLeague\",\"strCountry\",\"intFormedYear\",\n",
    "    \"strStadium\",\"strWebsite\",\"strTeamBadge\"\n",
    "]})\n",
    "\n",
    "players = (GET(\"lookup_all_players.php\", {\"id\": TEAM_ID}).get(\"player\") or [])\n",
    "print(\"\\nPlayers in team:\", len(players))\n",
    "for p in players[:12]:\n",
    "    print(\"-\", p.get(\"idPlayer\"), p.get(\"strPlayer\"), \"|\", p.get(\"strPosition\"))"
   ]
  },
  {
   "cell_type": "markdown",
   "id": "9b97eb34",
   "metadata": {},
   "source": [
    "## Search team / player by name"
   ]
  },
  {
   "cell_type": "code",
   "execution_count": 10,
   "id": "e0dd0872",
   "metadata": {},
   "outputs": [
    {
     "name": "stdout",
     "output_type": "stream",
     "text": [
      "Search team 'Arsenal': ['133604']\n",
      "Search player 'Saka': ['34155082', '34155213', '34168458', '34168973', '34169884']\n"
     ]
    }
   ],
   "source": [
    "def search_teams(name: str):\n",
    "    return (GET(\"searchteams.php\", {\"t\": name}).get(\"teams\") or [])\n",
    "\n",
    "def search_players(name: str):\n",
    "    return (GET(\"searchplayers.php\", {\"p\": name}).get(\"player\") or [])\n",
    "\n",
    "print(\"Search team 'Arsenal':\", [t[\"idTeam\"] for t in search_teams(\"Arsenal\")][:5])\n",
    "print(\"Search player 'Saka':\", [p[\"idPlayer\"] for p in search_players(\"Saka\")][:5])"
   ]
  },
  {
   "cell_type": "markdown",
   "id": "e468c46e",
   "metadata": {},
   "source": [
    "## Past / Next matches for a league"
   ]
  },
  {
   "cell_type": "code",
   "execution_count": 12,
   "id": "2f1353cd",
   "metadata": {},
   "outputs": [
    {
     "name": "stdout",
     "output_type": "stream",
     "text": [
      "Past matches: 10\n",
      "- 2025-08-20 Bolton Wanderers vs Reading 1 1 | id= 2274670\n",
      "- 2025-08-19 AFC Wimbledon vs Cardiff City 0 1 | id= 2274681\n",
      "- 2025-08-19 Wycombe Wanderers vs Exeter City 0 1 | id= 2274680\n",
      "- 2025-08-19 Stockport County vs Bradford City 1 2 | id= 2274679\n",
      "- 2025-08-19 Port Vale vs Stevenage 1 2 | id= 2274677\n",
      "- 2025-08-19 Plymouth Argyle vs Leyton Orient 0 1 | id= 2274676\n",
      "- 2025-08-19 Peterborough United vs Barnsley 0 1 | id= 2274675\n",
      "- 2025-08-19 Northampton Town vs Lincoln City 0 1 | id= 2274674\n",
      "- 2025-08-19 Mansfield Town vs Blackpool 2 0 | id= 2274673\n",
      "- 2025-08-19 Luton Town vs Wigan Athletic 1 0 | id= 2274672\n",
      "\n",
      "Upcoming matches: 10\n",
      "- 2025-08-23 AFC Wimbledon vs Barnsley | id= 2274682\n",
      "- 2025-08-23 Bolton Wanderers vs Lincoln City | id= 2274683\n",
      "- 2025-08-23 Huddersfield Town vs Stevenage | id= 2274684\n",
      "- 2025-08-23 Mansfield Town vs Leyton Orient | id= 2274685\n",
      "- 2025-08-23 Northampton Town vs Exeter City | id= 2274686\n",
      "- 2025-08-23 Peterborough United vs Bradford City | id= 2274687\n",
      "- 2025-08-23 Plymouth Argyle vs Blackpool | id= 2274688\n",
      "- 2025-08-23 Port Vale vs Doncaster Rovers | id= 2274689\n",
      "- 2025-08-23 Rotherham United vs Wigan Athletic | id= 2274690\n",
      "- 2025-08-23 Stockport County vs Burton Albion | id= 2274691\n"
     ]
    }
   ],
   "source": [
    "def league_matches(league_id: str, kind=\"past\", limit=10):\n",
    "    if kind == \"past\":\n",
    "        raw = (GET(\"eventspastleague.php\", {\"id\": league_id}).get(\"events\") or [])\n",
    "    else:\n",
    "        raw = (GET(\"eventsnextleague.php\", {\"id\": league_id}).get(\"events\") or [])\n",
    "    return raw[:limit]\n",
    "\n",
    "past = league_matches(LEAGUE_ID, \"past\", 10)\n",
    "upcoming = league_matches(LEAGUE_ID, \"next\", 10)\n",
    "\n",
    "print(\"Past matches:\", len(past))\n",
    "for e in past[:10]:\n",
    "    print(\"-\", e.get(\"dateEvent\"), e.get(\"strEvent\"), e.get(\"intHomeScore\"), e.get(\"intAwayScore\"), \"| id=\", e.get(\"idEvent\"))\n",
    "\n",
    "print(\"\\nUpcoming matches:\", len(upcoming))\n",
    "for e in upcoming[:10]:\n",
    "    print(\"-\", e.get(\"dateEvent\"), e.get(\"strEvent\"), \"| id=\", e.get(\"idEvent\"))"
   ]
  },
  {
   "cell_type": "markdown",
   "id": "62d4ee07",
   "metadata": {},
   "source": [
    "## Seasons for a league + full schedule for a season"
   ]
  },
  {
   "cell_type": "code",
   "execution_count": 13,
   "id": "af1d86bf",
   "metadata": {},
   "outputs": [
    {
     "name": "stdout",
     "output_type": "stream",
     "text": [
      "Seasons: ['1992-1993', '1993-1994', '1994-1995', '1995-1996', '1996-1997', '1997-1998', '1998-1999', '1999-2000', '2000-2001', '2001-2002']\n",
      "\n",
      "Season 2025-2026 events: 100\n",
      "- 2025-08-15 Liverpool vs Bournemouth | id= 2267073\n",
      "- 2025-08-16 Aston Villa vs Newcastle United | id= 2267074\n",
      "- 2025-08-16 Brighton and Hove Albion vs Fulham | id= 2267075\n",
      "- 2025-08-16 Sunderland vs West Ham United | id= 2267077\n",
      "- 2025-08-16 Tottenham Hotspur vs Burnley | id= 2267078\n",
      "- 2025-08-16 Wolverhampton Wanderers vs Manchester City | id= 2267079\n",
      "- 2025-08-17 Nottingham Forest vs Brentford | id= 2267076\n",
      "- 2025-08-17 Chelsea vs Crystal Palace | id= 2267080\n"
     ]
    }
   ],
   "source": [
    "seasons = [s[\"strSeason\"] for s in (GET(\"search_all_seasons.php\", {\"id\": LEAGUE_ID}).get(\"seasons\") or [])]\n",
    "print(\"Seasons:\", seasons[:10])\n",
    "\n",
    "if seasons:\n",
    "    SZN = seasons[-1]  # pick the latest available\n",
    "    season_events = (GET(\"eventsseason.php\", {\"id\": LEAGUE_ID, \"s\": SZN}).get(\"events\") or [])\n",
    "    print(f\"\\nSeason {SZN} events:\", len(season_events))\n",
    "    for e in season_events[:8]:\n",
    "        print(\"-\", e.get(\"dateEvent\"), e.get(\"strEvent\"), \"| id=\", e.get(\"idEvent\"))"
   ]
  },
  {
   "cell_type": "markdown",
   "id": "8381da2c",
   "metadata": {},
   "source": [
    "## Matches by day (all leagues) for a sport"
   ]
  },
  {
   "cell_type": "code",
   "execution_count": 14,
   "id": "d212680a",
   "metadata": {},
   "outputs": [
    {
     "name": "stdout",
     "output_type": "stream",
     "text": [
      "Events on 2025-08-17: 1\n",
      "- Australian A-League | 2014-10-10 Melbourne Victory vs Western Sydney Wanderers FC | id= 441043\n"
     ]
    }
   ],
   "source": [
    "DAY = \"2025-08-17\"\n",
    "day_events = (GET(\"eventsday.php\", {\"d\": DAY, \"s\": \"Soccer\"}).get(\"events\") or [])\n",
    "print(f\"Events on {DAY}:\", len(day_events))\n",
    "for e in day_events[:10]:\n",
    "    print(\"-\", e.get(\"strLeague\"), \"|\", e.get(\"dateEvent\"), e.get(\"strEvent\"), \"| id=\", e.get(\"idEvent\"))"
   ]
  },
  {
   "cell_type": "markdown",
   "id": "204defda",
   "metadata": {},
   "source": [
    "## Team past/next matches"
   ]
  },
  {
   "cell_type": "code",
   "execution_count": 15,
   "id": "bc8c5c50",
   "metadata": {},
   "outputs": [
    {
     "name": "stdout",
     "output_type": "stream",
     "text": [
      "Team last: 5 | Team next: 5\n",
      "- 2025-08-20 Bolton Wanderers vs Reading 1 1 | id= 2274670\n",
      "- 2025-08-13 Bolton Wanderers vs Sheffield Wednesday 3 3 | id= 2281210\n",
      "- 2025-08-09 Bolton Wanderers vs Plymouth Argyle 2 0 | id= 2274648\n",
      "- 2025-07-26 Bolton Wanderers vs Preston North End 2 0 | id= 2294131\n",
      "- 2025-05-03 Bolton Wanderers vs Stevenage 1 1 | id= 2081485\n"
     ]
    }
   ],
   "source": [
    "def team_matches(team_id: str, kind=\"last\", limit=5):\n",
    "    if kind == \"last\":\n",
    "        raw = (GET(\"eventslast.php\", {\"id\": team_id}).get(\"results\") or [])\n",
    "    else:\n",
    "        raw = (GET(\"eventsnext.php\", {\"id\": team_id}).get(\"events\") or [])\n",
    "    return raw[:limit]\n",
    "\n",
    "tm_past = team_matches(TEAM_ID, \"last\", 5)\n",
    "tm_next = team_matches(TEAM_ID, \"next\", 5)\n",
    "print(\"Team last:\", len(tm_past), \"| Team next:\", len(tm_next))\n",
    "for e in tm_past:\n",
    "    print(\"-\", e.get(\"dateEvent\"), e.get(\"strEvent\"), e.get(\"intHomeScore\"), e.get(\"intAwayScore\"), \"| id=\", e.get(\"idEvent\"))"
   ]
  },
  {
   "cell_type": "markdown",
   "id": "0c3559d5",
   "metadata": {},
   "source": [
    "## Full match package (event summary + timeline + flags)"
   ]
  },
  {
   "cell_type": "code",
   "execution_count": 16,
   "id": "22691750",
   "metadata": {},
   "outputs": [
    {
     "name": "stdout",
     "output_type": "stream",
     "text": [
      "Using EVENT_ID: 2274670\n",
      "\n",
      "=== Event Summary ===\n",
      "     idEvent: 441613\n",
      "   dateEvent: 2014-12-29\n",
      "    strEvent: Liverpool vs Swansea\n",
      "   strLeague: English Premier League\n",
      " strHomeTeam: Liverpool\n",
      " strAwayTeam: Swansea\n",
      "intHomeScore: 4\n",
      "intAwayScore: 1\n",
      "   strStatus: None\n",
      "    strVenue: Anfield\n",
      "    strVideo: \n",
      "    strThumb: None\n",
      "\n",
      "=== Timeline ===\n"
     ]
    },
    {
     "ename": "AttributeError",
     "evalue": "'str' object has no attribute 'get'",
     "output_type": "error",
     "traceback": [
      "\u001b[31m---------------------------------------------------------------------------\u001b[39m",
      "\u001b[31mAttributeError\u001b[39m                            Traceback (most recent call last)",
      "\u001b[36mCell\u001b[39m\u001b[36m \u001b[39m\u001b[32mIn[16]\u001b[39m\u001b[32m, line 15\u001b[39m\n\u001b[32m     13\u001b[39m \u001b[38;5;28mprint\u001b[39m(\u001b[33m\"\u001b[39m\u001b[38;5;130;01m\\n\u001b[39;00m\u001b[33m=== Timeline ===\u001b[39m\u001b[33m\"\u001b[39m)\n\u001b[32m     14\u001b[39m \u001b[38;5;28;01mfor\u001b[39;00m t \u001b[38;5;129;01min\u001b[39;00m timeline[:\u001b[32m10\u001b[39m]:\n\u001b[32m---> \u001b[39m\u001b[32m15\u001b[39m     m = \u001b[43mt\u001b[49m\u001b[43m.\u001b[49m\u001b[43mget\u001b[49m(\u001b[33m\"\u001b[39m\u001b[33mintTime\u001b[39m\u001b[33m\"\u001b[39m)\n\u001b[32m     16\u001b[39m     etype = t.get(\u001b[33m\"\u001b[39m\u001b[33mstrEvent\u001b[39m\u001b[33m\"\u001b[39m)\n\u001b[32m     17\u001b[39m     who = t.get(\u001b[33m\"\u001b[39m\u001b[33mstrPlayer\u001b[39m\u001b[33m\"\u001b[39m)\n",
      "\u001b[31mAttributeError\u001b[39m: 'str' object has no attribute 'get'"
     ]
    }
   ],
   "source": [
    "# choose any event id you saw above\n",
    "EVENT_ID = (past or tm_past or day_events or [{}])[0].get(\"idEvent\")\n",
    "print(\"Using EVENT_ID:\", EVENT_ID)\n",
    "\n",
    "detail = GET(\"lookupevent.php\", {\"id\": EVENT_ID})\n",
    "event = (detail.get(\"events\") or [{}])[0]\n",
    "print(\"\\n=== Event Summary ===\")\n",
    "for k in [\"idEvent\",\"dateEvent\",\"strEvent\",\"strLeague\",\"strHomeTeam\",\"strAwayTeam\",\n",
    "          \"intHomeScore\",\"intAwayScore\",\"strStatus\",\"strVenue\",\"strVideo\",\"strThumb\"]:\n",
    "    print(f\"{k:>12}: {event.get(k)}\")\n",
    "\n",
    "timeline = (GET(\"lookuptimeline.php\", {\"id\": EVENT_ID}).get(\"timeline\") or [])\n",
    "print(\"\\n=== Timeline ===\")\n",
    "for t in timeline[:10]:\n",
    "    m = t.get(\"intTime\")\n",
    "    etype = t.get(\"strEvent\")\n",
    "    who = t.get(\"strPlayer\")\n",
    "    team = t.get(\"strTeam\")\n",
    "    detail = t.get(\"strDetail\")\n",
    "    print(f\"- {m}′ {etype} — {who} ({team}) {('| ' + detail) if detail else ''}\")\n",
    "\n",
    "stats = (GET(\"lookupeventstats.php\", {\"id\": EVENT_ID}).get(\"eventstats\") or [])\n",
    "print(\"\\n=== Stats (first 10) ===\")\n",
    "for s in stats[:10]:\n",
    "    print(\"-\", s.get(\"strStat\"), \":\", s.get(\"intHome\"), \"-\", s.get(\"intAway\"))\n",
    "\n",
    "lineup = (GET(\"lookuplineup.php\", {\"id\": EVENT_ID}).get(\"lineup\") or [])\n",
    "print(\"\\nHas lineup?\", bool(lineup))"
   ]
  },
  {
   "cell_type": "code",
   "execution_count": null,
   "id": "dd24933a",
   "metadata": {},
   "outputs": [],
   "source": []
  }
 ],
 "metadata": {
  "kernelspec": {
   "display_name": ".venv",
   "language": "python",
   "name": "python3"
  },
  "language_info": {
   "codemirror_mode": {
    "name": "ipython",
    "version": 3
   },
   "file_extension": ".py",
   "mimetype": "text/x-python",
   "name": "python",
   "nbconvert_exporter": "python",
   "pygments_lexer": "ipython3",
   "version": "3.12.7"
  }
 },
 "nbformat": 4,
 "nbformat_minor": 5
}
