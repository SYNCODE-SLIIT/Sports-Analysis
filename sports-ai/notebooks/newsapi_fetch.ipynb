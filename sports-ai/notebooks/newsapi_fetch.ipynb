{
  "cells": [
    {
      "cell_type": "markdown",
      "metadata": {},
      "source": [
        "# NewsAPI Fetch Demo\n",
        "\n",
        "This notebook shows how to reuse the backend `LeagueNewsService` for fetching stories from [NewsAPI](https://newsapi.org/). Make sure the `NEWS_API_KEY` environment variable is set (for example via the project `.env`).\n",
        "\n",
        "Change the query in the fetch cell below to explore other leagues or search phrases.\n"
      ]
    },
    {
      "cell_type": "code",
      "execution_count": 1,
      "metadata": {},
      "outputs": [
        {
          "name": "stdout",
          "output_type": "stream",
          "text": [
            "Project root: C:\\Dev\\IRWA3\\Sports-Analysis\\sports-ai\n",
            "Backend path added to sys.path: C:\\Dev\\IRWA3\\Sports-Analysis\\sports-ai\\backend\n"
          ]
        }
      ],
      "source": [
        "from pathlib import Path\n",
        "import sys\n",
        "\n",
        "PROJECT_ROOT = Path.cwd().resolve().parent\n",
        "BACKEND_PATH = PROJECT_ROOT / \"backend\"\n",
        "if str(BACKEND_PATH) not in sys.path:\n",
        "    sys.path.insert(0, str(BACKEND_PATH))\n",
        "\n",
        "print(f\"Project root: {PROJECT_ROOT}\")\n",
        "print(f\"Backend path added to sys.path: {BACKEND_PATH}\")\n"
      ]
    },
    {
      "cell_type": "code",
      "execution_count": 4,
      "metadata": {},
      "outputs": [
        {
          "name": "stdout",
          "output_type": "stream",
          "text": [
            "NEWS_API_KEY: b1c407778633487dbd7b0dec2b40c103\n",
            "Service ready: LeagueNewsService(api_key='b1c407778633487dbd7b0dec2b40c103', api_url='https://newsapi.org/v2/everything')\n"
          ]
        }
      ],
      "source": [
        "import os\n",
        "from importlib import reload\n",
        "from dotenv import load_dotenv, find_dotenv\n",
        "\n",
        "# 1. Load your .env file\n",
        "load_dotenv(find_dotenv(usecwd=True))\n",
        "\n",
        "# 2. Confirm key is visible now\n",
        "print(\"NEWS_API_KEY:\", os.environ.get(\"NEWS_API_KEY\"))\n",
        "\n",
        "# 3. Re-import the service AFTER the env is loaded\n",
        "import app.services.news_feed as news_feed\n",
        "reload(news_feed)  # <--- important: re-evaluate the module with env vars in memory\n",
        "\n",
        "# 4. Now instantiate\n",
        "service = news_feed.LeagueNewsService()\n",
        "print(\"Service ready:\", service)\n"
      ]
    },
    {
      "cell_type": "code",
      "execution_count": 6,
      "metadata": {},
      "outputs": [
        {
          "name": "stdout",
          "output_type": "stream",
          "text": [
            "✅ Fetched 10 articles for 'Premier League' (limit=10)\n",
            "[{'id': 'https://www.arsenal.com/news/27-scored-0-conceded-crazy-arteta-ucl-stat',\n",
            "  'imageUrl': 'https://www.arsenal.com/sites/default/files/styles/desktop_16x9/public/images/gyokeres-goal-atletico_kbhwa0vi.jpg?h=0c338a61&auto=webp&itok=HYUrfaHK',\n",
            "  'publishedAt': '2025-10-22T10:06:53+00:00',\n",
            "  'source': 'Arsenal.com',\n",
            "  'summary': 'Our brilliant 4-0 win over Atletico Madrid saw us continue our '\n",
            "             'excellent form at Emirates Stadium in the Champions League',\n",
            "  'title': '27 scored, 0 conceded: A crazy Arteta UCL stat',\n",
            "  'url': 'https://www.arsenal.com/news/27-scored-0-conceded-crazy-arteta-ucl-stat'},\n",
            " {'id': 'https://www.irishtimes.com/sport/2025/10/22/munsters-hunger-for-victory-gives-leinster-food-for-thought/',\n",
            "  'imageUrl': 'https://www.irishtimes.com/resizer/v2/M5XR7TP72RXQZ6Q7M4466XHVHE.jpg?smart=true&auth=e6a520e72416a23ca94c2dbc3657f4aaa6904741c9c0fcd18c553cf5745d6f37&width=1200&height=630',\n",
            "  'publishedAt': '2025-10-22T10:06:23+00:00',\n",
            "  'source': 'The Irish Times',\n",
            "  'summary': 'Munster centre Tom Farrell gets Ireland call-up at last; hurling '\n",
            "             'great Declan Hannon calls time on his Limerick career',\n",
            "  'title': 'Munster’s hunger gives Leinster food for thought',\n",
            "  'url': 'https://www.irishtimes.com/sport/2025/10/22/munsters-hunger-for-victory-gives-leinster-food-for-thought/'},\n",
            " {'id': 'https://www.justarsenal.com/literally-steamrolled-paul-merson-reacts-to-arsenals-win-against-atletico-madrid/402428',\n",
            "  'imageUrl': 'https://icdn.justarsenal.com/wp-content/uploads/2024/12/Paul-Merson.jpg',\n",
            "  'publishedAt': '2025-10-22T10:00:00+00:00',\n",
            "  'source': 'Just Arsenal News',\n",
            "  'summary': 'Paul Merson expressed his admiration for the way Arsenal '\n",
            "             'overcame Atletico Madrid in the Champions League last night, '\n",
            "             'describing their performance as relentless and commanding. The '\n",
            "             'Gunners faced a side widely recognised for their defensive '\n",
            "             'strength, and while…',\n",
            "  'title': '“Literally steamrolled” Paul Merson reacts to Arsenal’s win '\n",
            "           'against Atletico Madrid',\n",
            "  'url': 'https://www.justarsenal.com/literally-steamrolled-paul-merson-reacts-to-arsenals-win-against-atletico-madrid/402428'}]\n"
          ]
        }
      ],
      "source": [
        "# Ensure NEWS_API_KEY is available before proceeding\n",
        "import os\n",
        "\n",
        "if not os.getenv(\"NEWS_API_KEY\"):\n",
        "    raise RuntimeError(\n",
        "        \"NEWS_API_KEY missing. Please set it in your environment or .env file before running this cell.\"\n",
        "    )\n",
        "\n",
        "# Now safely use the news service\n",
        "from app.services.news_feed import LeagueNewsService, LeagueNewsError\n",
        "\n",
        "try:\n",
        "    news_service = LeagueNewsService()\n",
        "    league_name = \"Premier League\"\n",
        "    search_limit = 10\n",
        "\n",
        "    response = news_service.fetch(league_name=league_name, limit=search_limit)\n",
        "    articles = response.get(\"articles\", [])\n",
        "\n",
        "    print(f\"✅ Fetched {response.get('count', len(articles))} articles for '{league_name}' (limit={search_limit})\")\n",
        "\n",
        "    from pprint import pprint\n",
        "    pprint(articles[:3])  # Preview first 3\n",
        "except LeagueNewsError as exc:\n",
        "    print(f\"❌ News fetch failed: {exc}\")\n",
        "except Exception as e:\n",
        "    print(f\"⚠️ Unexpected error: {e}\")\n",
        "\n"
      ]
    }
  ],
  "metadata": {
    "kernelspec": {
      "display_name": ".venv (3.13.5)",
      "language": "python",
      "name": "python3"
    },
    "language_info": {
      "codemirror_mode": {
        "name": "ipython",
        "version": 3
      },
      "file_extension": ".py",
      "mimetype": "text/x-python",
      "name": "python",
      "nbconvert_exporter": "python",
      "pygments_lexer": "ipython3",
      "version": "3.13.5"
    }
  },
  "nbformat": 4,
  "nbformat_minor": 5
}
