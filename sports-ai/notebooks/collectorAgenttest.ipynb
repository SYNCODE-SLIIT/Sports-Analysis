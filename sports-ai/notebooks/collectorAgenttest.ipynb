{
 "cells": [
  {
   "cell_type": "code",
   "execution_count": 1,
   "id": "1270831d",
   "metadata": {},
   "outputs": [
    {
     "name": "stdout",
     "output_type": "stream",
     "text": [
      "Ready. Using agent: http://127.0.0.1:8000/collect\n"
     ]
    }
   ],
   "source": [
    "# Cell 1 — setup & helper\n",
    "import json, requests, pandas as pd\n",
    "from pprint import pprint\n",
    "\n",
    "AGENT = \"http://127.0.0.1:8000/collect\"\n",
    "\n",
    "def call_agent(intent, args=None):\n",
    "    args = args or {}\n",
    "    r = requests.post(AGENT, json={\"intent\": intent, \"args\": args}, timeout=30)\n",
    "    try:\n",
    "        j = r.json()\n",
    "    except Exception as e:\n",
    "        print(f\"[HTTP {r.status_code}] Non-JSON response for {intent}: {e}\")\n",
    "        print(\"Body preview:\", r.text[:400])\n",
    "        raise\n",
    "    if not j.get(\"ok\"):\n",
    "        raise RuntimeError(f\"Agent error [{intent}]: {j.get('error')}\")\n",
    "    return j\n",
    "\n",
    "print(\"Ready. Using agent:\", AGENT)"
   ]
  },
  {
   "cell_type": "code",
   "execution_count": 12,
   "id": "af00d5d4",
   "metadata": {},
   "outputs": [
    {
     "name": "stdout",
     "output_type": "stream",
     "text": [
      "Total leagues: 34\n",
      "\n",
      "First 10:\n",
      "- 4328  English Premier League\n",
      "- 4329  English League Championship\n",
      "- 4330  Scottish Premier League\n",
      "- 4331  German Bundesliga\n",
      "- 4332  Italian Serie A\n",
      "- 4334  French Ligue 1\n",
      "- 4335  Spanish La Liga\n",
      "- 4336  Greek Superleague Greece\n",
      "- 4337  Dutch Eredivisie\n",
      "- 4338  Belgian Pro League\n",
      "- 4339  Turkish Super Lig\n",
      "- 4340  Danish Superliga\n",
      "- 4344  Portuguese Primeira Liga\n",
      "- 4346  American Major League Soccer\n",
      "- 4347  Swedish Allsvenskan\n",
      "- 4350  Mexican Primera League\n",
      "- 4351  Brazilian Serie A\n",
      "- 4354  Ukrainian Premier League\n",
      "- 4355  Russian Football Premier League\n",
      "- 4356  Australian A-League\n",
      "- 4358  Norwegian Eliteserien\n",
      "- 4359  Chinese Super League\n",
      "- 4367  _No League\n",
      "- 4394  Italian Serie B\n",
      "- 4395  Scottish Championship\n",
      "- 4396  English League 1\n",
      "- 4397  English League 2\n",
      "- 4398  Italian Serie C Girone C\n",
      "- 4399  German 2. Bundesliga\n",
      "- 4400  Spanish La Liga 2\n",
      "- 4401  French Ligue 2\n",
      "- 4403  Swedish Superettan\n",
      "- 4404  Brazilian Serie B\n",
      "- 4406  Argentinian Primera Division\n"
     ]
    }
   ],
   "source": [
    "# Cell 2 — leagues.list\n",
    "resp = call_agent(\"leagues.list\", {})\n",
    "leagues = resp[\"data\"].get(\"leagues\") or []\n",
    "print(\"Total leagues:\", len(leagues))\n",
    "print(\"\\nFirst 10:\")\n",
    "for L in leagues[:34]:\n",
    "    print(f\"- {L.get('idLeague')}  {L.get('strLeague')}\")"
   ]
  },
  {
   "cell_type": "code",
   "execution_count": 13,
   "id": "cf2a247b",
   "metadata": {},
   "outputs": [
    {
     "name": "stdout",
     "output_type": "stream",
     "text": [
      "Teams for 'French Ligue 2': 18\n",
      "['Amiens', 'Annecy', 'Bastia', 'Boulogne', 'Clermont Foot', 'Grenoble', 'Guingamp', 'Laval', 'Le Mans', 'Montpellier', 'Nancy Lorraine', 'Pau FC']\n",
      "\n",
      "— sample —\n",
      "idTeam   : 133933\n",
      "strTeam  : Bastia\n",
      "strLeague: French Ligue 2\n",
      "idLeague : 4401\n"
     ]
    }
   ],
   "source": [
    "# Cell 3 — teams.list (by leagueName → name-based lookup under the hood)\n",
    "LEAGUE_NAME = \"French Ligue 2\"  # change to test others\n",
    "\n",
    "resp = call_agent(\"teams.list\", {\"leagueName\": LEAGUE_NAME})\n",
    "teams = resp[\"data\"].get(\"teams\") or []\n",
    "print(f\"Teams for '{LEAGUE_NAME}': {len(teams)}\")\n",
    "print([t.get(\"strTeam\") for t in teams[:12]])\n",
    "\n",
    "# show a couple of records to confirm fields look right (league & id)\n",
    "for t in teams[2:3]:\n",
    "    print(\"\\n— sample —\")\n",
    "    print(\"idTeam   :\", t.get(\"idTeam\"))\n",
    "    print(\"strTeam  :\", t.get(\"strTeam\"))\n",
    "    print(\"strLeague:\", t.get(\"strLeague\"))\n",
    "    print(\"idLeague :\", t.get(\"idLeague\"))"
   ]
  },
  {
   "cell_type": "code",
   "execution_count": 14,
   "id": "f56ebf6e",
   "metadata": {},
   "outputs": [
    {
     "name": "stdout",
     "output_type": "stream",
     "text": [
      "Team: Arsenal | idTeam: 133604\n",
      "League: English Premier League | idLeague: 4328\n",
      "Country: England\n",
      "Stadium: Emirates Stadium\n",
      "Website: www.arsenal.com\n",
      "\n",
      "Columns: ['idAPIfootball', 'idESPN', 'idLeague', 'idLeague2', 'idLeague3', 'idLeague4', 'idLeague5', 'idLeague6', 'idLeague7', 'idTeam', 'idVenue', 'intFormedYear', 'intLoved', 'intStadiumCapacity', 'strBadge', 'strBanner', 'strColour1', 'strColour2', 'strColour3', 'strCountry', 'strDescriptionCN', 'strDescriptionDE', 'strDescriptionEN', 'strDescriptionES', 'strDescriptionFR', 'strDescriptionHU', 'strDescriptionIL', 'strDescriptionIT', 'strDescriptionJP', 'strDescriptionNL', 'strDescriptionNO', 'strDescriptionPL', 'strDescriptionPT', 'strDescriptionRU', 'strDescriptionSE', 'strDivision', 'strEquipment', 'strFacebook', 'strFanart1', 'strFanart2', 'strFanart3', 'strFanart4', 'strGender', 'strInstagram', 'strKeywords', 'strLeague', 'strLeague2', 'strLeague3', 'strLeague4', 'strLeague5', 'strLeague6', 'strLeague7', 'strLocation', 'strLocked', 'strLogo', 'strRSS', 'strSport', 'strStadium', 'strTeam', 'strTeamAlternate', 'strTeamShort', 'strTwitter', 'strWebsite', 'strYoutube']\n"
     ]
    }
   ],
   "source": [
    "# Cell 4 — team.get via teamName (+ leagueName narrowing)\n",
    "LEAGUE_NAME = \"English Premier League\"  # change as needed\n",
    "TEAM_NAME   = \"Arsenal\"                 # change as needed\n",
    "\n",
    "# First confirm the list contains the team (so you know name is valid)\n",
    "tlist = call_agent(\"teams.list\", {\"leagueName\": LEAGUE_NAME})[\"data\"].get(\"teams\") or []\n",
    "assert any(t.get(\"strTeam\") == TEAM_NAME for t in tlist), f\"{TEAM_NAME} not found in {LEAGUE_NAME}\"\n",
    "\n",
    "# Now fetch team details by name (agent resolves name → id → lookupteam.php)\n",
    "resp = call_agent(\"team.get\", {\"teamName\": TEAM_NAME})\n",
    "team = resp[\"data\"].get(\"team\") or {}\n",
    "print(\"Team:\", team.get(\"strTeam\"), \"| idTeam:\", team.get(\"idTeam\"))\n",
    "print(\"League:\", team.get(\"strLeague\"), \"| idLeague:\", team.get(\"idLeague\"))\n",
    "print(\"Country:\", team.get(\"strCountry\"))\n",
    "print(\"Stadium:\", team.get(\"strStadium\"))\n",
    "print(\"Website:\", team.get(\"strWebsite\"))\n",
    "\n",
    "# If you want to see all columns:\n",
    "print(\"\\nColumns:\", sorted(team.keys()))"
   ]
  },
  {
   "cell_type": "code",
   "execution_count": 16,
   "id": "860c1995",
   "metadata": {},
   "outputs": [
    {
     "name": "stdout",
     "output_type": "stream",
     "text": [
      "Players returned for 'Annecy': 29\n",
      "Team labels in payload: ['Arsenal']\n",
      "- 34175641 | Albert Sambi Lokonga | Arsenal | Central Midfield\n",
      "- 34163698 | Ben White | Arsenal | Right-Back\n",
      "- 34169884 | Bukayo Saka | Arsenal | Right Winger\n",
      "- 34164499 | Christian Nørgaard | Arsenal | Defensive Midfield\n",
      "- 34194118 | Cristhian Mosquera | Arsenal | Centre-Back\n",
      "- 34148681 | David Raya | Arsenal | Goalkeeper\n",
      "- 34161584 | Declan Rice | Arsenal | Defensive Midfield\n",
      "- 34200626 | Ethan Nwaneri | Arsenal | Attacking Midfield\n",
      "- 34176976 | Fábio Vieira | Arsenal | Attacking Midfield\n",
      "- 34160962 | Gabriel Jesus | Arsenal | Centre-Forward\n",
      "\n",
      "Unique idTeam values   : ['133604'] \n",
      "Unique idTeam2 values  : ['0', '133901', '133906', '133907', '133909', '133910', '133913', '133914', '133915', '133916'] … +more\n",
      "\n",
      "Columns (players): ['dateBorn', 'dateDied', 'dateSigned', 'idAPIfootball', 'idESPN', 'idPlayer', 'idPlayerManager', 'idTeam', 'idTeam2', 'idTeamNational', 'idTransferMkt', 'idWikidata', 'intLoved', 'intSoccerXMLTeamID', 'strAgent', 'strBanner', 'strBirthLocation', 'strCollege', 'strCreativeCommons', 'strCutout', 'strDescriptionCN', 'strDescriptionDE', 'strDescriptionEN', 'strDescriptionES', 'strDescriptionFR', 'strDescriptionHU', 'strDescriptionIL', 'strDescriptionIT', 'strDescriptionJP', 'strDescriptionNL', 'strDescriptionNO', 'strDescriptionPL', 'strDescriptionPT', 'strDescriptionRU', 'strDescriptionSE', 'strEthnicity', 'strFacebook', 'strFanart1', 'strFanart2', 'strFanart3', 'strFanart4', 'strGender', 'strHeight', 'strInstagram', 'strKit', 'strLocked', 'strNationality', 'strNumber', 'strOutfitter', 'strPlayer', 'strPlayerAlternate', 'strPosition', 'strPoster', 'strRender', 'strSide', 'strSigning', 'strSport', 'strStatus', 'strTeam', 'strTeam2', 'strThumb', 'strTwitter', 'strWage', 'strWebsite', 'strWeight', 'strYoutube']\n"
     ]
    }
   ],
   "source": [
    "# Cell 5 — players.list by teamName (agent resolves name → id, then lookup_all_players.php)\n",
    "TEAM_NAME = \"Annecy\"  # try \"Bayern Munich\", \"Barcelona\", etc.\n",
    "\n",
    "resp = call_agent(\"players.list\", {\"teamName\": TEAM_NAME})\n",
    "players = resp[\"data\"].get(\"players\") or []\n",
    "print(f\"Players returned for '{TEAM_NAME}':\", len(players))\n",
    "\n",
    "# See if the payload is actually for the chosen club (this caught the Arsenal duplication issue)\n",
    "teams_in_payload = sorted({p.get(\"strTeam\") for p in players if p})\n",
    "print(\"Team labels in payload:\", teams_in_payload)\n",
    "\n",
    "# Quick sample\n",
    "for p in players[:10]:\n",
    "    print(\"-\", p.get(\"idPlayer\"), \"|\", p.get(\"strPlayer\"), \"|\", p.get(\"strTeam\"), \"|\", p.get(\"strPosition\"))\n",
    "\n",
    "# Inspect idTeam vs idTeam2 distribution\n",
    "idTeam_vals  = sorted({p.get(\"idTeam\") for p in players if p.get(\"idTeam\")})\n",
    "idTeam2_vals = sorted({p.get(\"idTeam2\") for p in players if p.get(\"idTeam2\")})\n",
    "print(\"\\nUnique idTeam values   :\", idTeam_vals[:10], (\"… +more\" if len(idTeam_vals) > 10 else \"\"))\n",
    "print(\"Unique idTeam2 values  :\", idTeam2_vals[:10], (\"… +more\" if len(idTeam2_vals) > 10 else \"\"))\n",
    "\n",
    "# All columns union (handy to decide what you want to surface)\n",
    "all_keys = set().union(*(p.keys() for p in players)) if players else set()\n",
    "print(\"\\nColumns (players):\", sorted(all_keys))"
   ]
  },
  {
   "cell_type": "code",
   "execution_count": 24,
   "id": "0d3d0fef",
   "metadata": {},
   "outputs": [
    {
     "name": "stdout",
     "output_type": "stream",
     "text": [
      "Seasons available: 14 | sample: ['2012-2013', '2013-2014', '2014-2015', '2015-2016', '2016-2017']\n",
      "\n",
      "Events for Belgian Pro League 2014-2015: 100\n",
      "- 444581 | 2014-07-25 | Standard vs Charleroi\n",
      "- 444582 | 2014-07-26 | Waasland-Beveren vs Club Brugge\n",
      "- 444583 | 2014-07-26 | Westerlo vs Lokeren\n",
      "- 444584 | 2014-07-26 | Cercle Brugge vs Gent\n",
      "- 444585 | 2014-07-26 | Lierse vs KV Oostende\n",
      "- 444586 | 2014-07-27 | Mechelen vs Genk\n",
      "- 444587 | 2014-07-27 | Anderlecht vs Mouscron-Peruwelz\n",
      "- 444588 | 2014-07-27 | Waregem vs Kortrijk\n",
      "- 444589 | 2014-08-01 | KV Oostende vs Anderlecht\n",
      "- 444590 | 2014-08-02 | Kortrijk vs Standard\n"
     ]
    }
   ],
   "source": [
    "LEAGUE_NAME = \"Belgian Pro League\"   # change as needed\n",
    "SEASON      = \"2014-2015\"            # must exist for the chosen league\n",
    "\n",
    "# seasons (sanity)\n",
    "resp = call_agent(\"seasons.list\", {\"leagueName\": LEAGUE_NAME})\n",
    "seasons = resp.get(\"data\", {}).get(\"seasons\") or []\n",
    "print(\"Seasons available:\", len(seasons), \"| sample:\", [s.get(\"strSeason\") for s in seasons[:5]])\n",
    "\n",
    "# events for season\n",
    "resp = call_agent(\"events.list\", {\"leagueName\": LEAGUE_NAME, \"season\": SEASON})\n",
    "events = resp.get(\"data\", {}).get(\"events\") or []\n",
    "print(f\"\\nEvents for {LEAGUE_NAME} {SEASON}: {len(events)}\")\n",
    "for e in events[:10]:\n",
    "    print(\"-\", e.get(\"idEvent\"), \"|\", e.get(\"dateEvent\"), \"|\", e.get(\"strEvent\"))"
   ]
  },
  {
   "cell_type": "code",
   "execution_count": 33,
   "id": "9e83c137",
   "metadata": {},
   "outputs": [
    {
     "name": "stdout",
     "output_type": "stream",
     "text": [
      "Candidates for 'Standard vs Charleroi': 14\n",
      "- 2239080 | 2025-05-04 | 2024-2025 | Standard vs Charleroi\n",
      "- 2076917 | 2024-10-20 | 2024-2025 | Standard vs Charleroi\n",
      "- 1823946 | 2023-12-16 | 2023-2024 | Standard vs Charleroi\n",
      "- 1578244 | 2023-04-14 | 2022-2023 | Standard vs Charleroi\n",
      "- 1245541 | 2021-12-05 | 2021-2022 | Standard vs Charleroi\n",
      "- 1015182 | 2021-01-24 | 2020-2021 | Standard vs Charleroi\n",
      "- 603925 | 2019-09-29 | 2019-2020 | Standard vs Charleroi\n",
      "- 577014 | 2018-09-15 | 2018-2019 | Standard vs Charleroi\n",
      "- 524130 | 2017-09-10 | 2017-2018 | Standard vs Charleroi\n",
      "- 510450 | 2016-08-19 | 2016-2017 | Standard vs Charleroi\n",
      "- 488030 | 2016-02-20 | 2015-2016 | Standard vs Charleroi\n",
      "- 461209 | 2012-12-07 | 2012-2013 | Standard vs Charleroi\n",
      "- 457452 | 2013-10-20 | 2013-2014 | Standard vs Charleroi\n",
      "- 444581 | 2014-07-25 | 2014-2015 | Standard vs Charleroi\n",
      "CHOSEN_ID = 2239080\n"
     ]
    }
   ],
   "source": [
    "# Change this to any match name the season list returned (e.g., from eventsseason.php)\n",
    "EVENT_NAME = \"Standard vs Charleroi\"  # <- change\n",
    "\n",
    "resp = call_agent(\"event.get\", {\"eventName\": EVENT_NAME})\n",
    "data = resp.get(\"data\", {}) if resp else {}\n",
    "cands = data.get(\"candidates\") or []\n",
    "\n",
    "print(f\"Candidates for '{EVENT_NAME}': {len(cands)}\")\n",
    "for c in cands[:20]:\n",
    "    print(\"-\", c.get(\"idEvent\"), \"|\", c.get(\"dateEvent\"), \"|\", c.get(\"strSeason\"), \"|\", c.get(\"strEvent\"))\n",
    "\n",
    "# Keep one id for next cell (pick any from the printed list)\n",
    "CHOSEN_ID = cands[0][\"idEvent\"] if cands else None\n",
    "print(\"CHOSEN_ID =\", CHOSEN_ID)"
   ]
  },
  {
   "cell_type": "code",
   "execution_count": 34,
   "id": "5d322b33",
   "metadata": {},
   "outputs": [
    {
     "name": "stdout",
     "output_type": "stream",
     "text": [
      "\n",
      "=== Event Detail ===\n",
      "idEvent        457456\n",
      "dateEvent      2013-10-26\n",
      "strEvent       Lierse vs KV Oostende\n",
      "strLeague      Belgian Jupiler League\n",
      "strSeason      2013-2014\n",
      "strHomeTeam    Lierse\n",
      "strAwayTeam    KV Oostende\n",
      "intHomeScore   0\n",
      "intAwayScore   2\n",
      "strStatus      None\n",
      "strVideo       None\n",
      "\n",
      "Timeline rows: 12\n",
      "Stats rows   : 12\n",
      "Lineup rows  : 22\n"
     ]
    }
   ],
   "source": [
    "# Use the same EVENT_NAME as Cell 1, and set EVENT_ID to one of the ids shown above\n",
    "EVENT_NAME = \"Lierse vs KV Oostende\"  # <- same as Cell 1\n",
    "EVENT_ID   = 457456                          # or paste an id from Cell 1 output\n",
    "\n",
    "args = {\n",
    "    \"eventName\": EVENT_NAME,\n",
    "    \"eventId\": str(EVENT_ID),          # <- this filters candidates by id\n",
    "    \"expand\": [\"timeline\",\"stats\",\"lineup\"]\n",
    "}\n",
    "resp = call_agent(\"event.get\", args)\n",
    "data = resp.get(\"data\", {}) if resp else {}\n",
    "\n",
    "# Summary\n",
    "ev  = data.get(\"event\") or {}\n",
    "tl  = data.get(\"timeline\") or []\n",
    "st  = data.get(\"stats\") or []\n",
    "lu  = data.get(\"lineup\") or []\n",
    "\n",
    "print(\"\\n=== Event Detail ===\")\n",
    "for k in [\"idEvent\",\"dateEvent\",\"strEvent\",\"strLeague\",\"strSeason\",\n",
    "          \"strHomeTeam\",\"strAwayTeam\",\"intHomeScore\",\"intAwayScore\",\"strStatus\",\"strVideo\"]:\n",
    "    print(f\"{k:14} {ev.get(k)}\")\n",
    "\n",
    "print(\"\\nTimeline rows:\", len(tl))\n",
    "print(\"Stats rows   :\", len(st))\n",
    "print(\"Lineup rows  :\", len(lu))"
   ]
  },
  {
   "cell_type": "code",
   "execution_count": null,
   "id": "1a584f66",
   "metadata": {},
   "outputs": [],
   "source": []
  }
 ],
 "metadata": {
  "kernelspec": {
   "display_name": ".venv",
   "language": "python",
   "name": "python3"
  },
  "language_info": {
   "codemirror_mode": {
    "name": "ipython",
    "version": 3
   },
   "file_extension": ".py",
   "mimetype": "text/x-python",
   "name": "python",
   "nbconvert_exporter": "python",
   "pygments_lexer": "ipython3",
   "version": "3.12.7"
  }
 },
 "nbformat": 4,
 "nbformat_minor": 5
}
