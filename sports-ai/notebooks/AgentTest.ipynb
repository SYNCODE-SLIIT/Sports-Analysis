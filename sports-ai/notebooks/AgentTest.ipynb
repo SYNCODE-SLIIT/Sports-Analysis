{
 "cells": [
  {
   "cell_type": "code",
   "execution_count": 5,
   "id": "2dc475dd",
   "metadata": {},
   "outputs": [],
   "source": [
    "# Unified Router caller (same for all tests)\n",
    "import requests, json\n",
    "\n",
    "AGENT_URL = \"http://127.0.0.1:8000/collect\"  # ← change if different\n",
    "\n",
    "def call_router(intent: str, args: dict | None = None):\n",
    "    r = requests.post(AGENT_URL, json={\"intent\": intent, \"args\": args or {}}, timeout=60)\n",
    "    r.raise_for_status()\n",
    "    resp = r.json()\n",
    "    print(\"OK:\", resp.get(\"ok\"), \"| Intent:\", resp.get(\"intent\"))\n",
    "    if not resp.get(\"ok\"):\n",
    "        print(json.dumps(resp, indent=2))\n",
    "        raise SystemExit\n",
    "    # Show which provider actually answered\n",
    "    src = (resp.get(\"meta\") or {}).get(\"source\") or {}\n",
    "    print(\"Provider(s):\", src)\n",
    "    # Return whole response so you can inspect raw as needed\n",
    "    return resp\n",
    "\n",
    "def show_first(obj, n=3):\n",
    "    if isinstance(obj, list):\n",
    "        for i, x in enumerate(obj[:n], 1):\n",
    "            print(f\"{i:>2}.\", (x if isinstance(x, (str,int,float)) else {k:x.get(k) for k in list(x)[:8]}))\n",
    "    elif isinstance(obj, dict):\n",
    "        print({k: obj.get(k) for k in list(obj)[:12]})\n",
    "    else:\n",
    "        print(repr(obj))"
   ]
  },
  {
   "cell_type": "code",
   "execution_count": 7,
   "id": "63b0cdc6",
   "metadata": {},
   "outputs": [
    {
     "name": "stdout",
     "output_type": "stream",
     "text": [
      "OK: True | Intent: leagues.list\n",
      "Provider(s): {'primary': 'tsdb', 'fallback': None}\n",
      "Keys: ['leagues', 'count']\n",
      "Total leagues: 34\n",
      " 1. {'idLeague': '4328', 'strLeague': 'English Premier League', 'strSport': 'Soccer', 'strLeagueAlternate': 'Premier League, EPL'}\n",
      " 2. {'idLeague': '4329', 'strLeague': 'English League Championship', 'strSport': 'Soccer', 'strLeagueAlternate': 'Championship'}\n",
      " 3. {'idLeague': '4330', 'strLeague': 'Scottish Premier League', 'strSport': 'Soccer', 'strLeagueAlternate': 'Scottish Premiership, SPFL'}\n",
      " 4. {'idLeague': '4331', 'strLeague': 'German Bundesliga', 'strSport': 'Soccer', 'strLeagueAlternate': 'Bundesliga, Fußball-Bundesliga'}\n",
      " 5. {'idLeague': '4332', 'strLeague': 'Italian Serie A', 'strSport': 'Soccer', 'strLeagueAlternate': 'Serie A'}\n",
      " 6. {'idLeague': '4334', 'strLeague': 'French Ligue 1', 'strSport': 'Soccer', 'strLeagueAlternate': 'Ligue 1 Conforama'}\n",
      " 7. {'idLeague': '4335', 'strLeague': 'Spanish La Liga', 'strSport': 'Soccer', 'strLeagueAlternate': 'LaLiga Santander, La Liga'}\n",
      " 8. {'idLeague': '4336', 'strLeague': 'Greek Superleague Greece', 'strSport': 'Soccer', 'strLeagueAlternate': ''}\n",
      " 9. {'idLeague': '4337', 'strLeague': 'Dutch Eredivisie', 'strSport': 'Soccer', 'strLeagueAlternate': 'Eredivisie'}\n",
      "10. {'idLeague': '4338', 'strLeague': 'Belgian Pro League', 'strSport': 'Soccer', 'strLeagueAlternate': 'Jupiler Pro League'}\n",
      "11. {'idLeague': '4339', 'strLeague': 'Turkish Super Lig', 'strSport': 'Soccer', 'strLeagueAlternate': 'Super Lig'}\n",
      "12. {'idLeague': '4340', 'strLeague': 'Danish Superliga', 'strSport': 'Soccer', 'strLeagueAlternate': ''}\n",
      "13. {'idLeague': '4344', 'strLeague': 'Portuguese Primeira Liga', 'strSport': 'Soccer', 'strLeagueAlternate': 'Liga NOS'}\n",
      "14. {'idLeague': '4346', 'strLeague': 'American Major League Soccer', 'strSport': 'Soccer', 'strLeagueAlternate': 'MLS'}\n",
      "15. {'idLeague': '4347', 'strLeague': 'Swedish Allsvenskan', 'strSport': 'Soccer', 'strLeagueAlternate': 'Fotbollsallsvenskan'}\n"
     ]
    }
   ],
   "source": [
    "# What it does: Lists soccer leagues; TSDB primary (falls back to AllSports if empty).\n",
    "# Try editing:\n",
    "#   name=\"English Premier League\", \"Spanish La Liga\", \"Italian Serie A\"\n",
    "#   country=\"England\" (TSDB) or countryName=\"Italy\" (AS resolver)\n",
    "\n",
    "resp = call_router(\"leagues.list\", {\n",
    "    # \"name\": \"English Premier League\",\n",
    "    # \"country\": \"England\",          # TSDB filter\n",
    "    # \"countryName\": \"Italy\",        # AllSports resolver (to countryId)\n",
    "})\n",
    "data = resp[\"data\"]\n",
    "print(\"Keys:\", list(data.keys()))\n",
    "leagues = data.get(\"leagues\") or data.get(\"result\") or []\n",
    "print(\"Total leagues:\", len(leagues))\n",
    "show_first(leagues, n=15)"
   ]
  },
  {
   "cell_type": "code",
   "execution_count": 3,
   "id": "1c768c23",
   "metadata": {},
   "outputs": [
    {
     "name": "stdout",
     "output_type": "stream",
     "text": [
      "OK: True | Intent: seasons.list\n",
      "Provider(s): {'primary': 'tsdb', 'fallback': None}\n",
      "Seasons: 123\n",
      " 1. {'strSeason': '1892-1893'}\n",
      " 2. {'strSeason': '1893-1894'}\n",
      " 3. {'strSeason': '1894-1895'}\n",
      " 4. {'strSeason': '1895-1896'}\n",
      " 5. {'strSeason': '1896-1897'}\n",
      " 6. {'strSeason': '1897-1898'}\n",
      " 7. {'strSeason': '1898-1899'}\n",
      " 8. {'strSeason': '1899-1900'}\n",
      " 9. {'strSeason': '1900-1901'}\n",
      "10. {'strSeason': '1901-1902'}\n"
     ]
    }
   ],
   "source": [
    "# What it does: Lists seasons for a league; TSDB primary (AllSports fallback returns Leagues raw).\n",
    "# Edit leagueName or pass leagueId directly.\n",
    "\n",
    "resp = call_router(\"seasons.list\", {\n",
    "    \"leagueName\": \"English League Championship\"\n",
    "    # \"leagueName\": \"Italian Serie A\",\n",
    "    # \"leagueId\": \"4328\"  # TSDB EPL id (example)\n",
    "})\n",
    "seasons = resp[\"data\"].get(\"seasons\") or resp[\"data\"].get(\"result\") or []\n",
    "print(\"Seasons:\", len(seasons))\n",
    "show_first(seasons, n=10)"
   ]
  },
  {
   "cell_type": "code",
   "execution_count": 4,
   "id": "66526ba2",
   "metadata": {},
   "outputs": [
    {
     "name": "stdout",
     "output_type": "stream",
     "text": [
      "OK: True | Intent: league.get\n",
      "Provider(s): {'primary': 'tsdb', 'fallback': None}\n",
      "Keys in data: ['league']\n",
      "{'idLeague': '4335', 'idSoccerXML': None, 'idAPIfootball': '7351', 'strSport': 'Soccer', 'strLeague': 'Spanish La Liga', 'strLeagueAlternate': 'LaLiga Santander, La Liga', 'intDivision': '0', 'idCup': '0', 'strCurrentSeason': '2025-2026', 'intFormedYear': '1929', 'dateFirstEvent': '2003-01-05', 'strGender': 'Male'}\n"
     ]
    }
   ],
   "source": [
    "# What it does: League detail; TSDB primary.\n",
    "resp = call_router(\"league.get\", {\n",
    "    \"leagueName\": \"Spanish La Liga\",\n",
    "    # \"leagueId\": \"4335\",  # TSDB La Liga (example)\n",
    "})\n",
    "print(\"Keys in data:\", list(resp[\"data\"].keys()))\n",
    "show_first(resp[\"data\"].get(\"league\") or resp[\"data\"])"
   ]
  },
  {
   "cell_type": "code",
   "execution_count": 5,
   "id": "1d888549",
   "metadata": {},
   "outputs": [
    {
     "name": "stdout",
     "output_type": "stream",
     "text": [
      "OK: True | Intent: league.table\n",
      "Provider(s): {'primary': 'tsdb', 'fallback': None}\n",
      "Rows: 20\n",
      " 1. {'idStanding': '244577', 'intRank': '1', 'idTeam': '133610', 'strTeam': 'Chelsea', 'strBadge': 'https://r2.thesportsdb.com/images/media/team/badge/yvwvtu1448813215.png/tiny', 'idLeague': '4328', 'strLeague': 'English Premier League', 'strSeason': '2014-2015'}\n",
      " 2. {'idStanding': '244578', 'intRank': '2', 'idTeam': '133613', 'strTeam': 'Manchester City', 'strBadge': 'https://r2.thesportsdb.com/images/media/team/badge/vwpvry1467462651.png/tiny', 'idLeague': '4328', 'strLeague': 'English Premier League', 'strSeason': '2014-2015'}\n",
      " 3. {'idStanding': '244579', 'intRank': '3', 'idTeam': '133604', 'strTeam': 'Arsenal', 'strBadge': 'https://r2.thesportsdb.com/images/media/team/badge/uyhbfe1612467038.png/tiny', 'idLeague': '4328', 'strLeague': 'English Premier League', 'strSeason': '2014-2015'}\n",
      " 4. {'idStanding': '244580', 'intRank': '4', 'idTeam': '133612', 'strTeam': 'Manchester United', 'strBadge': 'https://r2.thesportsdb.com/images/media/team/badge/xzqdr11517660252.png/tiny', 'idLeague': '4328', 'strLeague': 'English Premier League', 'strSeason': '2014-2015'}\n",
      " 5. {'idStanding': '244581', 'intRank': '5', 'idTeam': '133616', 'strTeam': 'Tottenham', 'strBadge': 'https://r2.thesportsdb.com/images/media/team/badge/dfyfhl1604094109.png/tiny', 'idLeague': '4328', 'strLeague': 'English Premier League', 'strSeason': '2014-2015'}\n",
      " 6. {'idStanding': '244582', 'intRank': '6', 'idTeam': '133602', 'strTeam': 'Liverpool', 'strBadge': 'https://r2.thesportsdb.com/images/media/team/badge/uvxuqq1448813372.png/tiny', 'idLeague': '4328', 'strLeague': 'English Premier League', 'strSeason': '2014-2015'}\n",
      " 7. {'idStanding': '244583', 'intRank': '7', 'idTeam': '134778', 'strTeam': 'Southampton', 'strBadge': 'https://r2.thesportsdb.com/images/media/team/badge/qusxss1448813481.png/tiny', 'idLeague': '4328', 'strLeague': 'English Premier League', 'strSeason': '2014-2015'}\n",
      " 8. {'idStanding': '244584', 'intRank': '8', 'idTeam': '133614', 'strTeam': 'Swansea', 'strBadge': 'https://r2.thesportsdb.com/images/media/team/badge/vwxqrx1448813505.png/tiny', 'idLeague': '4328', 'strLeague': 'English Premier League', 'strSeason': '2014-2015'}\n"
     ]
    }
   ],
   "source": [
    "# What it does: Table/standings for a season; TSDB primary (AllSports Standings fallback).\n",
    "# Change season to a valid one for that league.\n",
    "resp = call_router(\"league.table\", {\n",
    "    \"leagueName\": \"English Premier League\",\n",
    "    \"season\": \"2014-2015\",\n",
    "    # AllSports fallback: \"leagueId\": \"207\", \"season\": \"2020/2021\"  # Serie A\n",
    "})\n",
    "table = resp[\"data\"].get(\"table\") or (resp[\"data\"].get(\"result\") or {}).get(\"total\") or []\n",
    "print(\"Rows:\", len(table))\n",
    "show_first(table, n=8)"
   ]
  },
  {
   "cell_type": "code",
   "execution_count": 6,
   "id": "ffa6c1f3",
   "metadata": {},
   "outputs": [
    {
     "name": "stdout",
     "output_type": "stream",
     "text": [
      "OK: True | Intent: teams.list\n",
      "Provider(s): {'primary': 'tsdb', 'fallback': None}\n",
      "Teams: 20\n",
      " 1. {'idTeam': '133604', 'idESPN': '359', 'idAPIfootball': '42', 'intLoved': '8', 'strTeam': 'Arsenal', 'strTeamAlternate': 'Arsenal Football Club, AFC, Arsenal FC', 'strTeamShort': 'ARS', 'intFormedYear': '1892'}\n",
      " 2. {'idTeam': '133601', 'idESPN': '4328', 'idAPIfootball': '66', 'intLoved': None, 'strTeam': 'Aston Villa', 'strTeamAlternate': 'Aston Villa FC', 'strTeamShort': 'AVL', 'intFormedYear': '1874'}\n",
      " 3. {'idTeam': '134301', 'idESPN': '349', 'idAPIfootball': '35', 'intLoved': '2', 'strTeam': 'Bournemouth', 'strTeamAlternate': 'AFC Bournemouth, Athletic Football Club Bournemouth', 'strTeamShort': 'BOU', 'intFormedYear': '1890'}\n",
      " 4. {'idTeam': '134355', 'idESPN': '337', 'idAPIfootball': '55', 'intLoved': '1', 'strTeam': 'Brentford', 'strTeamAlternate': 'Brentford Football Club, Brentford FC, BFC', 'strTeamShort': 'BRE', 'intFormedYear': '1889'}\n",
      " 5. {'idTeam': '133619', 'idESPN': '331', 'idAPIfootball': '51', 'intLoved': None, 'strTeam': 'Brighton and Hove Albion', 'strTeamAlternate': 'Brighton & Hove Albion Football Club, Brighton, BHAFC', 'strTeamShort': 'BRI', 'intFormedYear': '1901'}\n",
      " 6. {'idTeam': '133623', 'idESPN': '379', 'idAPIfootball': '44', 'intLoved': '0', 'strTeam': 'Burnley', 'strTeamAlternate': 'Burnley FC', 'strTeamShort': 'BUR', 'intFormedYear': '1882'}\n",
      " 7. {'idTeam': '133610', 'idESPN': '363', 'idAPIfootball': '49', 'intLoved': '5', 'strTeam': 'Chelsea', 'strTeamAlternate': 'Chelsea FC', 'strTeamShort': 'CHE', 'intFormedYear': '1905'}\n",
      " 8. {'idTeam': '133632', 'idESPN': '384', 'idAPIfootball': '52', 'intLoved': '0', 'strTeam': 'Crystal Palace', 'strTeamAlternate': 'Palace', 'strTeamShort': 'CRY', 'intFormedYear': '1905'}\n"
     ]
    }
   ],
   "source": [
    "# What it does: Teams by league or by teamName; TSDB primary (AS fallback).\n",
    "resp = call_router(\"teams.list\", {\n",
    "    \"leagueName\": \"English Premier League\",\n",
    "    # or: \"teamName\": \"Arsenal\"\n",
    "})\n",
    "teams = resp[\"data\"].get(\"teams\") or resp[\"data\"].get(\"result\") or []\n",
    "print(\"Teams:\", len(teams))\n",
    "show_first(teams, n=8)"
   ]
  },
  {
   "cell_type": "code",
   "execution_count": 7,
   "id": "4ac6dbcb",
   "metadata": {},
   "outputs": [
    {
     "name": "stdout",
     "output_type": "stream",
     "text": [
      "OK: True | Intent: team.get\n",
      "Provider(s): {'primary': 'tsdb', 'fallback': 'allsports'}\n",
      "{'error': '1', 'result': [{'param': 'teamId', 'msg': 'Required parameter missing', 'cod': 201}]}\n"
     ]
    }
   ],
   "source": [
    "# What it does: Team detail; TSDB primary; AS fallback returns Teams result.\n",
    "resp = call_router(\"team.get\", {\n",
    "    # \"teamName\": \"Juventus\",\n",
    "    # \"teamId\": \"133676\"  # TSDB Juventus (example)\n",
    "    # AllSports: \"teamId\": \"96\"\n",
    "})\n",
    "show_first(resp[\"data\"].get(\"team\") or resp[\"data\"])"
   ]
  },
  {
   "cell_type": "code",
   "execution_count": 8,
   "id": "5341e258",
   "metadata": {},
   "outputs": [
    {
     "name": "stdout",
     "output_type": "stream",
     "text": [
      "OK: True | Intent: team.equipment\n",
      "Provider(s): {'primary': 'tsdb', 'fallback': None}\n",
      "Equipment rows: 44\n",
      " 1. {'idEquipment': '795', 'idTeam': '133676', 'date': '2019-10-09 14:41:44', 'strSeason': '2019-2020', 'strEquipment': 'https://r2.thesportsdb.com/images/media/team/equipment/2019-133676-Jersey.png', 'strType': '1st', 'strUsername': 'smudgie'}\n",
      " 2. {'idEquipment': '1152', 'idTeam': '133676', 'date': '2020-04-15 22:10:38', 'strSeason': '2019-2020', 'strEquipment': 'https://r2.thesportsdb.com/images/media/team/equipment/1yctl81586985025.png', 'strType': '2nd', 'strUsername': 'smudgie'}\n",
      " 3. {'idEquipment': '1153', 'idTeam': '133676', 'date': '2020-04-15 22:10:55', 'strSeason': '2019-2020', 'strEquipment': 'https://r2.thesportsdb.com/images/media/team/equipment/newfxj1586985041.png', 'strType': '3rd', 'strUsername': 'smudgie'}\n",
      " 4. {'idEquipment': '1687', 'idTeam': '133676', 'date': '2020-09-08 14:30:37', 'strSeason': '2020', 'strEquipment': 'https://r2.thesportsdb.com/images/media/team/equipment/w84vdq1599571829.png', 'strType': 'Home', 'strUsername': 'GOAviator'}\n",
      " 5. {'idEquipment': '1688', 'idTeam': '133676', 'date': '2020-09-08 14:30:53', 'strSeason': '2020-2021', 'strEquipment': 'https://r2.thesportsdb.com/images/media/team/equipment/82nft51599571846.png', 'strType': '1st', 'strUsername': 'GOAviator'}\n",
      " 6. {'idEquipment': '1689', 'idTeam': '133676', 'date': '2020-09-08 14:31:01', 'strSeason': '2020-2021', 'strEquipment': 'https://r2.thesportsdb.com/images/media/team/equipment/uvcyzv1599571855.png', 'strType': '2nd', 'strUsername': 'GOAviator'}\n"
     ]
    }
   ],
   "source": [
    "# What it does: Team equipment/kit images; TSDB-only feature.\n",
    "resp = call_router(\"team.equipment\", {\n",
    "    \"teamName\": \"Juventus\",\n",
    "    # \"teamId\": \"133604\"   # TSDB Arsenal (example)\n",
    "})\n",
    "equip = resp[\"data\"].get(\"equipment\") or []\n",
    "print(\"Equipment rows:\", len(equip))\n",
    "show_first(equip, n=6)"
   ]
  },
  {
   "cell_type": "code",
   "execution_count": 9,
   "id": "5c9c8738",
   "metadata": {},
   "outputs": [
    {
     "name": "stdout",
     "output_type": "stream",
     "text": [
      "OK: True | Intent: players.list\n",
      "Provider(s): {'primary': 'allsports', 'fallback': None}\n",
      "Players: 1\n",
      " 1. {'param': 'playerId or playerName', 'msg': 'Required parameter missing', 'cod': 201}\n"
     ]
    }
   ],
   "source": [
    "# What it does: Players; AllSports primary (supports playerName/teamId/leagueId), TSDB fallback if empty.\n",
    "# Change teamName/teamId as needed. Example AS teamId: Juventus=96\n",
    "resp = call_router(\"players.list\", {\n",
    "    # By team:\n",
    "    # \"teamName\": \"Juventus\",\n",
    "    # \"teamId\": \"96\",             # AllSports Juventus\n",
    "    # Or by player:\n",
    "    # \"playerName\": \"Lionel Messi\",\n",
    "})\n",
    "players = resp[\"data\"].get(\"result\") or resp[\"data\"].get(\"players\") or []\n",
    "print(\"Players:\", len(players))\n",
    "show_first(players, n=8)"
   ]
  },
  {
   "cell_type": "code",
   "execution_count": 10,
   "id": "d7448dd8",
   "metadata": {},
   "outputs": [
    {
     "name": "stdout",
     "output_type": "stream",
     "text": [
      "OK: True | Intent: player.get\n",
      "Provider(s): {'primary': 'allsports', 'fallback': None}\n",
      " 1. {'player_key': 1136721488, 'player_name': 'C. Pinsoglio', 'player_number': '23', 'player_country': 'Italy', 'player_type': 'Goalkeepers', 'player_age': '35', 'player_match_played': '', 'player_goals': ''}\n"
     ]
    }
   ],
   "source": [
    "# What it does: Player detail; AllSports primary, TSDB fallback.\n",
    "resp = call_router(\"player.get\", {\n",
    "    \"playerName\": \"C. Pinsoglio\",\n",
    "    # AllSports: \"playerId\": 103051168,\n",
    "})\n",
    "out = resp[\"data\"].get(\"result\") or resp[\"data\"].get(\"players\") or resp[\"data\"]\n",
    "if isinstance(out, list) and out:\n",
    "    show_first(out, n=3)\n",
    "else:\n",
    "    show_first(out)"
   ]
  },
  {
   "cell_type": "code",
   "execution_count": 11,
   "id": "e5050114",
   "metadata": {},
   "outputs": [
    {
     "name": "stdout",
     "output_type": "stream",
     "text": [
      "OK: True | Intent: player.honours\n",
      "Provider(s): {'primary': 'tsdb', 'fallback': None}\n",
      "Honours keys: ['honours', 'count']\n",
      " 1. {'id': '611', 'idPlayer': '34146370', 'idTeam': '133739', 'idLeague': '4335', 'idHonour': '566', 'strSport': 'Soccer', 'strPlayer': 'Lionel Messi', 'strTeam': 'Barcelona'}\n",
      " 2. {'id': '612', 'idPlayer': '34146370', 'idTeam': '133739', 'idLeague': '4335', 'idHonour': '566', 'strSport': 'Soccer', 'strPlayer': 'Lionel Messi', 'strTeam': 'Barcelona'}\n",
      " 3. {'id': '613', 'idPlayer': '34146370', 'idTeam': '133739', 'idLeague': '4335', 'idHonour': '566', 'strSport': 'Soccer', 'strPlayer': 'Lionel Messi', 'strTeam': 'Barcelona'}\n"
     ]
    }
   ],
   "source": [
    "# What it does: TSDB player extras (if available on free tier).\n",
    "resp = call_router(\"player.honours\", {\"playerName\": \"Lionel Messi\"})\n",
    "print(\"Honours keys:\", list(resp[\"data\"].keys()))\n",
    "show_first(resp[\"data\"].get(\"honours\") or [])"
   ]
  },
  {
   "cell_type": "code",
   "execution_count": 12,
   "id": "0cb411c7",
   "metadata": {},
   "outputs": [
    {
     "name": "stdout",
     "output_type": "stream",
     "text": [
      "OK: True | Intent: events.list\n",
      "Provider(s): {'primary': 'tsdb', 'fallback': None}\n",
      "Events: 1\n",
      " 1. {'idEvent': '441043', 'idAPIfootball': None, 'strEvent': 'Melbourne Victory vs Western Sydney Wanderers FC', 'strEventAlternate': 'Western Sydney Wanderers FC @ Melbourne Victory', 'strFilename': 'Australian A-League 2014-10-10 Melbourne Victory vs Western Sydney Wanderers FC', 'strSport': 'Soccer', 'idLeague': '4356', 'strLeague': 'Australian A-League'}\n"
     ]
    }
   ],
   "source": [
    "# What it does: Match list by day; TSDB primary, AS fallback if empty.\n",
    "resp = call_router(\"events.list\", {\n",
    "    \"date\": \"2014-12-29\",\n",
    "    # try more: \"2021-05-18\", \"2023-12-16\"\n",
    "})\n",
    "events = resp[\"data\"].get(\"events\") or resp[\"data\"].get(\"result\") or resp[\"data\"].get(\"results\") or []\n",
    "print(\"Events:\", len(events))\n",
    "show_first(events, n=8)"
   ]
  },
  {
   "cell_type": "code",
   "execution_count": 13,
   "id": "04f78733",
   "metadata": {},
   "outputs": [
    {
     "name": "stdout",
     "output_type": "stream",
     "text": [
      "OK: True | Intent: events.list\n",
      "Provider(s): {'primary': 'tsdb', 'fallback': None}\n",
      "Events: 100\n",
      " 1. {'idEvent': '444581', 'idAPIfootball': None, 'strEvent': 'Standard vs Charleroi', 'strEventAlternate': 'Charleroi @ Standard', 'strFilename': 'Belgian Jupiler League 2014-07-25 Standard vs Charleroi', 'strSport': 'Soccer', 'idLeague': '4338', 'strLeague': 'Belgian Jupiler League'}\n",
      " 2. {'idEvent': '444582', 'idAPIfootball': None, 'strEvent': 'Waasland-Beveren vs Club Brugge', 'strEventAlternate': 'Club Brugge @ Waasland-Beveren', 'strFilename': 'Belgian Jupiler League 2014-07-26 Waasland-Beveren vs Club Brugge', 'strSport': 'Soccer', 'idLeague': '4338', 'strLeague': 'Belgian Jupiler League'}\n",
      " 3. {'idEvent': '444583', 'idAPIfootball': None, 'strEvent': 'Westerlo vs Lokeren', 'strEventAlternate': 'Lokeren @ Westerlo', 'strFilename': 'Belgian Jupiler League 2014-07-26 Westerlo vs Lokeren', 'strSport': 'Soccer', 'idLeague': '4338', 'strLeague': 'Belgian Jupiler League'}\n",
      " 4. {'idEvent': '444584', 'idAPIfootball': None, 'strEvent': 'Cercle Brugge vs Gent', 'strEventAlternate': 'Gent @ Cercle Brugge', 'strFilename': 'Belgian Jupiler League 2014-07-26 Cercle Brugge vs Gent', 'strSport': 'Soccer', 'idLeague': '4338', 'strLeague': 'Belgian Jupiler League'}\n",
      " 5. {'idEvent': '444585', 'idAPIfootball': None, 'strEvent': 'Lierse vs KV Oostende', 'strEventAlternate': 'KV Oostende @ Lierse', 'strFilename': 'Belgian Jupiler League 2014-07-26 Lierse vs KV Oostende', 'strSport': 'Soccer', 'idLeague': '4338', 'strLeague': 'Belgian Jupiler League'}\n"
     ]
    }
   ],
   "source": [
    "# What it does: Matches for a league season; TSDB primary; AS fallback via Fixtures window if needed.\n",
    "resp = call_router(\"events.list\", {\n",
    "    \"leagueName\": \"Belgian Pro League\",\n",
    "    \"season\": \"2014-2015\",\n",
    "})\n",
    "events = resp[\"data\"].get(\"events\") or resp[\"data\"].get(\"result\") or []\n",
    "print(\"Events:\", len(events))\n",
    "show_first(events, n=5)"
   ]
  },
  {
   "cell_type": "code",
   "execution_count": 14,
   "id": "15933b96",
   "metadata": {},
   "outputs": [
    {
     "name": "stdout",
     "output_type": "stream",
     "text": [
      "OK: True | Intent: events.list\n",
      "Provider(s): {'primary': 'tsdb', 'fallback': None}\n",
      "Team events: 5\n",
      " 1. {'idEvent': '2267083', 'idAPIfootball': '1378979', 'strEvent': 'Arsenal vs Leeds United', 'strEventAlternate': 'Leeds United @ Arsenal', 'strFilename': 'English Premier League 2025-08-23 Arsenal vs Leeds United', 'strSport': 'Soccer', 'idLeague': '4328', 'strLeague': 'English Premier League'}\n",
      " 2. {'idEvent': '2290379', 'idAPIfootball': '1430657', 'strEvent': 'Arsenal vs Athletic Bilbao', 'strEventAlternate': 'Athletic Bilbao @ Arsenal', 'strFilename': 'Emirates Cup 2025-08-09 Arsenal vs Athletic Bilbao', 'strSport': 'Soccer', 'idLeague': '4569', 'strLeague': 'Club Friendlies'}\n",
      " 3. {'idEvent': '2290369', 'idAPIfootball': '1402825', 'strEvent': 'Arsenal vs Villarreal', 'strEventAlternate': 'Villarreal @ Arsenal', 'strFilename': 'Club Friendlies 2025-08-06 Arsenal vs Villarreal', 'strSport': 'Soccer', 'idLeague': '4569', 'strLeague': 'Club Friendlies'}\n",
      " 4. {'idEvent': '2250034', 'idAPIfootball': '1371782', 'strEvent': 'Arsenal vs Tottenham Hotspur', 'strEventAlternate': 'Tottenham @ Arsenal', 'strFilename': 'Club Friendlies 2025-07-31 Arsenal vs Tottenham Hotspur', 'strSport': 'Soccer', 'idLeague': '4569', 'strLeague': 'Club Friendlies'}\n",
      " 5. {'idEvent': '2250031', 'idAPIfootball': '1371780', 'strEvent': 'Arsenal vs Newcastle United', 'strEventAlternate': 'Newcastle @ Arsenal', 'strFilename': 'Club Friendlies 2025-07-27 Arsenal vs Newcastle United', 'strSport': 'Soccer', 'idLeague': '4569', 'strLeague': 'Club Friendlies'}\n"
     ]
    }
   ],
   "source": [
    "# What it does: Matches for a team; TSDB primary (next/last); AS fallback via Fixtures teamId window.\n",
    "resp = call_router(\"events.list\", {\n",
    "    \"teamName\": \"Arsenal\",\n",
    "    # \"kind\": \"next\",  # TSDB: next matches for team\n",
    "    # Default is \"last\" on TSDB team path\n",
    "})\n",
    "events = resp[\"data\"].get(\"results\") or resp[\"data\"].get(\"events\") or resp[\"data\"].get(\"result\") or []\n",
    "print(\"Team events:\", len(events))\n",
    "show_first(events, n=6)"
   ]
  },
  {
   "cell_type": "code",
   "execution_count": 15,
   "id": "e7a6f0f3",
   "metadata": {},
   "outputs": [
    {
     "name": "stdout",
     "output_type": "stream",
     "text": [
      "OK: True | Intent: event.get\n",
      "Provider(s): {'primary': 'tsdb', 'fallback': None}\n",
      "candidates: 14\n",
      "picked id: None\n",
      "expansion keys: []\n"
     ]
    }
   ],
   "source": [
    "# What it does: TSDB **name-first** event detail; keeps candidates, chooses 1 if unique or by matching id; expands.\n",
    "resp = call_router(\"event.get\", {\n",
    "    \"eventName\": \"Standard vs Charleroi\",\n",
    "    # \"eventId\": \"444581\",             # optional filter on candidates\n",
    "    \"expand\": [\"timeline\", \"stats\", \"lineup\"]\n",
    "})\n",
    "data = resp[\"data\"]\n",
    "print(\"candidates:\", len(data.get(\"candidates\") or []))\n",
    "print(\"picked id:\", (data.get(\"event\") or {}).get(\"idEvent\"))\n",
    "print(\"expansion keys:\", [k for k in (\"timeline\",\"stats\",\"lineup\") if k in data])"
   ]
  },
  {
   "cell_type": "code",
   "execution_count": 16,
   "id": "721d342d",
   "metadata": {},
   "outputs": [
    {
     "name": "stdout",
     "output_type": "stream",
     "text": [
      "OK: True | Intent: events.live\n",
      "Provider(s): {'primary': 'allsports', 'fallback': 'tsdb'}\n",
      "Live count: 0\n"
     ]
    }
   ],
   "source": [
    "# What it does: Live matches; AllSports primary; TSDB fallback is limited.\n",
    "resp = call_router(\"events.live\", {\n",
    "    # Optional: \"leagueName\": \"Italian Serie A\", \"countryName\": \"Italy\",\n",
    "    # Optional: \"withPlayerStats\": 1\n",
    "})\n",
    "live = resp[\"data\"].get(\"result\") or resp[\"data\"].get(\"events\") or []\n",
    "print(\"Live count:\", len(live))\n",
    "show_first(live, n=5)"
   ]
  },
  {
   "cell_type": "code",
   "execution_count": 17,
   "id": "55ce1ce8",
   "metadata": {},
   "outputs": [
    {
     "name": "stdout",
     "output_type": "stream",
     "text": [
      "OK: True | Intent: video.highlights\n",
      "Provider(s): {'primary': 'allsports', 'fallback': 'tsdb'}\n",
      "Keys: ['success']\n",
      "{'success': 1}\n"
     ]
    }
   ],
   "source": [
    "# What it does: Highlights; TSDB primary, AllSports fallback\n",
    "resp = call_router(\"video.highlights\", {\n",
    "    # If you have an eventId, include it:\n",
    "    # \"eventId\": \"528603\",\n",
    "    # Otherwise TSDB will try to use the chosen event from name-based get flows.\n",
    "    # \"eventName\": \"Liverpool vs Swansea\"\n",
    "})\n",
    "print(\"Keys:\", list(resp[\"data\"].keys()))\n",
    "show_first(resp[\"data\"].get(\"result\") or resp[\"data\"].get(\"highlights\") or resp[\"data\"])"
   ]
  },
  {
   "cell_type": "code",
   "execution_count": 18,
   "id": "186e6dab",
   "metadata": {},
   "outputs": [
    {
     "name": "stdout",
     "output_type": "stream",
     "text": [
      "OK: True | Intent: odds.list\n",
      "Provider(s): {'primary': 'allsports', 'fallback': None}\n",
      "Keys: ['error', 'result']\n",
      " 1. {'param': 'from', 'msg': 'Required parameter missing', 'cod': 201}\n",
      " 2. {'param': 'to', 'msg': 'Required parameter missing', 'cod': 201}\n"
     ]
    }
   ],
   "source": [
    "# What it does: Odds (AllSports only). Use either a date window or a matchId.\n",
    "resp = call_router(\"odds.list\", {\n",
    "    # By match:\n",
    "    # \"matchId\": \"86392\",\n",
    "    # OR date window:\n",
    "    # \"from\": \"2021-05-18\", \"to\": \"2021-05-18\"\n",
    "})\n",
    "print(\"Keys:\", list(resp[\"data\"].keys()))\n",
    "show_first(resp[\"data\"].get(\"result\") or resp[\"data\"])"
   ]
  },
  {
   "cell_type": "code",
   "execution_count": null,
   "id": "89791440",
   "metadata": {},
   "outputs": [],
   "source": []
  }
 ],
 "metadata": {
  "kernelspec": {
   "display_name": ".venv",
   "language": "python",
   "name": "python3"
  },
  "language_info": {
   "codemirror_mode": {
    "name": "ipython",
    "version": 3
   },
   "file_extension": ".py",
   "mimetype": "text/x-python",
   "name": "python",
   "nbconvert_exporter": "python",
   "pygments_lexer": "ipython3",
   "version": "3.13.5"
  }
 },
 "nbformat": 4,
 "nbformat_minor": 5
}
