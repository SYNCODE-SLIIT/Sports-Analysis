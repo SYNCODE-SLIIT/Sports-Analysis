{
 "cells": [
  {
   "cell_type": "code",
   "execution_count": 37,
   "id": "2dc475dd",
   "metadata": {},
   "outputs": [],
   "source": [
    "# Unified Router caller (same for all tests)\n",
    "import requests, json\n",
    "\n",
    "AGENT_URL = \"http://127.0.0.1:8000/collect\"  # ← change if different\n",
    "\n",
    "def call_router(intent: str, args: dict | None = None):\n",
    "    r = requests.post(AGENT_URL, json={\"intent\": intent, \"args\": args or {}}, timeout=60)\n",
    "    r.raise_for_status()\n",
    "    resp = r.json()\n",
    "    print(\"OK:\", resp.get(\"ok\"), \"| Intent:\", resp.get(\"intent\"))\n",
    "    if not resp.get(\"ok\"):\n",
    "        print(json.dumps(resp, indent=2))\n",
    "        raise SystemExit\n",
    "    # Show which provider actually answered\n",
    "    src = (resp.get(\"meta\") or {}).get(\"source\") or {}\n",
    "    print(\"Provider(s):\", src)\n",
    "    # Return whole response so you can inspect raw as needed\n",
    "    return resp\n",
    "\n",
    "def show_first(obj, n=3):\n",
    "    if isinstance(obj, list):\n",
    "        for i, x in enumerate(obj[:n], 1):\n",
    "            print(f\"{i:>2}.\", (x if isinstance(x, (str,int,float)) else {k:x.get(k) for k in list(x)[:8]}))\n",
    "    elif isinstance(obj, dict):\n",
    "        print({k: obj.get(k) for k in list(obj)[:12]})\n",
    "    else:\n",
    "        print(repr(obj))"
   ]
  },
  {
   "cell_type": "code",
   "execution_count": 38,
   "id": "63b0cdc6",
   "metadata": {},
   "outputs": [
    {
     "name": "stdout",
     "output_type": "stream",
     "text": [
      "OK: True | Intent: leagues.list\n",
      "Provider(s): {'primary': 'tsdb', 'fallback': None}\n",
      "Keys: ['leagues', 'count']\n",
      "Total leagues: 34\n",
      " 1. {'idLeague': '4328', 'strLeague': 'English Premier League', 'strSport': 'Soccer', 'strLeagueAlternate': 'Premier League, EPL'}\n",
      " 2. {'idLeague': '4329', 'strLeague': 'English League Championship', 'strSport': 'Soccer', 'strLeagueAlternate': 'Championship'}\n",
      " 3. {'idLeague': '4330', 'strLeague': 'Scottish Premier League', 'strSport': 'Soccer', 'strLeagueAlternate': 'Scottish Premiership, SPFL'}\n",
      " 4. {'idLeague': '4331', 'strLeague': 'German Bundesliga', 'strSport': 'Soccer', 'strLeagueAlternate': 'Bundesliga, Fußball-Bundesliga'}\n",
      " 5. {'idLeague': '4332', 'strLeague': 'Italian Serie A', 'strSport': 'Soccer', 'strLeagueAlternate': 'Serie A'}\n"
     ]
    }
   ],
   "source": [
    "# What it does: Lists soccer leagues; TSDB primary (falls back to AllSports if empty).\n",
    "# Try editing:\n",
    "#   name=\"English Premier League\", \"Spanish La Liga\", \"Italian Serie A\"\n",
    "#   country=\"England\" (TSDB) or countryName=\"Italy\" (AS resolver)\n",
    "\n",
    "resp = call_router(\"leagues.list\", {\n",
    "    # \"name\": \"English Premier League\",\n",
    "    # \"country\": \"England\",          # TSDB filter\n",
    "    # \"countryName\": \"Italy\",        # AllSports resolver (to countryId)\n",
    "})\n",
    "data = resp[\"data\"]\n",
    "print(\"Keys:\", list(data.keys()))\n",
    "leagues = data.get(\"leagues\") or data.get(\"result\") or []\n",
    "print(\"Total leagues:\", len(leagues))\n",
    "show_first(leagues, n=5)"
   ]
  },
  {
   "cell_type": "code",
   "execution_count": 39,
   "id": "1c768c23",
   "metadata": {},
   "outputs": [
    {
     "name": "stdout",
     "output_type": "stream",
     "text": [
      "OK: True | Intent: seasons.list\n",
      "Provider(s): {'primary': 'tsdb', 'fallback': 'allsports'}\n",
      "Seasons: 976\n",
      " 1. {'league_key': 4, 'league_name': 'UEFA Europa League', 'country_key': 1, 'country_name': 'eurocups', 'league_logo': 'https://apiv2.allsportsapi.com/logo/logo_leagues/', 'country_logo': None}\n",
      " 2. {'league_key': 1, 'league_name': 'UEFA European Championship', 'country_key': 1, 'country_name': 'eurocups', 'league_logo': None, 'country_logo': None}\n",
      " 3. {'league_key': 683, 'league_name': 'UEFA Conference League', 'country_key': 1, 'country_name': 'eurocups', 'league_logo': None, 'country_logo': None}\n",
      " 4. {'league_key': 3, 'league_name': 'UEFA Champions League', 'country_key': 1, 'country_name': 'eurocups', 'league_logo': 'https://apiv2.allsportsapi.com/logo/logo_leagues/3_uefa_champions_league.png', 'country_logo': None}\n",
      " 5. {'league_key': 633, 'league_name': 'UEFA Nations League', 'country_key': 1, 'country_name': 'eurocups', 'league_logo': None, 'country_logo': None}\n",
      " 6. {'league_key': 28, 'league_name': 'World Cup', 'country_key': 8, 'country_name': 'Worldcup', 'league_logo': 'https://apiv2.allsportsapi.com/logo/logo_leagues/28_world-cup.png', 'country_logo': 'https://apiv2.allsportsapi.com/logo/logo_country/8_worldcup.png'}\n",
      " 7. {'league_key': 152, 'league_name': 'Premier League', 'country_key': 44, 'country_name': 'England', 'league_logo': 'https://apiv2.allsportsapi.com/logo/logo_leagues/152_premier-league.png', 'country_logo': 'https://apiv2.allsportsapi.com/logo/logo_country/44_england.png'}\n",
      " 8. {'league_key': 302, 'league_name': 'La Liga', 'country_key': 6, 'country_name': 'Spain', 'league_logo': 'https://apiv2.allsportsapi.com/logo/logo_leagues/302_la-liga.png', 'country_logo': 'https://apiv2.allsportsapi.com/logo/logo_country/6_spain.png'}\n",
      " 9. {'league_key': 207, 'league_name': 'Serie A', 'country_key': 5, 'country_name': 'Italy', 'league_logo': 'https://apiv2.allsportsapi.com/logo/logo_leagues/207_serie-a.png', 'country_logo': 'https://apiv2.allsportsapi.com/logo/logo_country/5_italy.png'}\n",
      "10. {'league_key': 175, 'league_name': 'Bundesliga', 'country_key': 4, 'country_name': 'Germany', 'league_logo': 'https://apiv2.allsportsapi.com/logo/logo_leagues/175_bundesliga.png', 'country_logo': 'https://apiv2.allsportsapi.com/logo/logo_country/4_germany.png'}\n"
     ]
    }
   ],
   "source": [
    "# What it does: Lists seasons for a league; TSDB primary (AllSports fallback returns Leagues raw).\n",
    "# Edit leagueName or pass leagueId directly.\n",
    "\n",
    "resp = call_router(\"seasons.list\", {\n",
    "    # \"leagueName\": \"English Premier League\",\n",
    "    # \"leagueName\": \"Italian Serie A\",\n",
    "    # \"leagueId\": \"4328\"  # TSDB EPL id (example)\n",
    "})\n",
    "seasons = resp[\"data\"].get(\"seasons\") or resp[\"data\"].get(\"result\") or []\n",
    "print(\"Seasons:\", len(seasons))\n",
    "show_first(seasons, n=10)"
   ]
  },
  {
   "cell_type": "code",
   "execution_count": 40,
   "id": "66526ba2",
   "metadata": {},
   "outputs": [
    {
     "name": "stdout",
     "output_type": "stream",
     "text": [
      "OK: True | Intent: league.get\n",
      "Provider(s): {'primary': 'tsdb', 'fallback': None}\n",
      "Keys in data: ['league']\n",
      "{'idLeague': '4335', 'idSoccerXML': None, 'idAPIfootball': '7351', 'strSport': 'Soccer', 'strLeague': 'Spanish La Liga', 'strLeagueAlternate': 'LaLiga Santander, La Liga', 'intDivision': '0', 'idCup': '0', 'strCurrentSeason': '2025-2026', 'intFormedYear': '1929', 'dateFirstEvent': '2003-01-05', 'strGender': 'Male'}\n"
     ]
    }
   ],
   "source": [
    "# What it does: League detail; TSDB primary.\n",
    "resp = call_router(\"league.get\", {\n",
    "    \"leagueName\": \"Spanish La Liga\",\n",
    "    # \"leagueId\": \"4335\",  # TSDB La Liga (example)\n",
    "})\n",
    "print(\"Keys in data:\", list(resp[\"data\"].keys()))\n",
    "show_first(resp[\"data\"].get(\"league\") or resp[\"data\"])"
   ]
  },
  {
   "cell_type": "code",
   "execution_count": 41,
   "id": "1d888549",
   "metadata": {},
   "outputs": [
    {
     "name": "stdout",
     "output_type": "stream",
     "text": [
      "OK: True | Intent: league.table\n",
      "Provider(s): {'primary': 'tsdb', 'fallback': None}\n",
      "Rows: 20\n",
      " 1. {'idStanding': '244577', 'intRank': '1', 'idTeam': '133610', 'strTeam': 'Chelsea', 'strBadge': 'https://r2.thesportsdb.com/images/media/team/badge/yvwvtu1448813215.png/tiny', 'idLeague': '4328', 'strLeague': 'English Premier League', 'strSeason': '2014-2015'}\n",
      " 2. {'idStanding': '244578', 'intRank': '2', 'idTeam': '133613', 'strTeam': 'Manchester City', 'strBadge': 'https://r2.thesportsdb.com/images/media/team/badge/vwpvry1467462651.png/tiny', 'idLeague': '4328', 'strLeague': 'English Premier League', 'strSeason': '2014-2015'}\n",
      " 3. {'idStanding': '244579', 'intRank': '3', 'idTeam': '133604', 'strTeam': 'Arsenal', 'strBadge': 'https://r2.thesportsdb.com/images/media/team/badge/uyhbfe1612467038.png/tiny', 'idLeague': '4328', 'strLeague': 'English Premier League', 'strSeason': '2014-2015'}\n",
      " 4. {'idStanding': '244580', 'intRank': '4', 'idTeam': '133612', 'strTeam': 'Manchester United', 'strBadge': 'https://r2.thesportsdb.com/images/media/team/badge/xzqdr11517660252.png/tiny', 'idLeague': '4328', 'strLeague': 'English Premier League', 'strSeason': '2014-2015'}\n",
      " 5. {'idStanding': '244581', 'intRank': '5', 'idTeam': '133616', 'strTeam': 'Tottenham', 'strBadge': 'https://r2.thesportsdb.com/images/media/team/badge/dfyfhl1604094109.png/tiny', 'idLeague': '4328', 'strLeague': 'English Premier League', 'strSeason': '2014-2015'}\n",
      " 6. {'idStanding': '244582', 'intRank': '6', 'idTeam': '133602', 'strTeam': 'Liverpool', 'strBadge': 'https://r2.thesportsdb.com/images/media/team/badge/uvxuqq1448813372.png/tiny', 'idLeague': '4328', 'strLeague': 'English Premier League', 'strSeason': '2014-2015'}\n",
      " 7. {'idStanding': '244583', 'intRank': '7', 'idTeam': '134778', 'strTeam': 'Southampton', 'strBadge': 'https://r2.thesportsdb.com/images/media/team/badge/qusxss1448813481.png/tiny', 'idLeague': '4328', 'strLeague': 'English Premier League', 'strSeason': '2014-2015'}\n",
      " 8. {'idStanding': '244584', 'intRank': '8', 'idTeam': '133614', 'strTeam': 'Swansea', 'strBadge': 'https://r2.thesportsdb.com/images/media/team/badge/vwxqrx1448813505.png/tiny', 'idLeague': '4328', 'strLeague': 'English Premier League', 'strSeason': '2014-2015'}\n"
     ]
    }
   ],
   "source": [
    "# What it does: Table/standings for a season; TSDB primary (AllSports Standings fallback).\n",
    "# Change season to a valid one for that league.\n",
    "resp = call_router(\"league.table\", {\n",
    "    \"leagueName\": \"English Premier League\",\n",
    "    \"season\": \"2014-2015\",\n",
    "    # AllSports fallback: \"leagueId\": \"207\", \"season\": \"2020/2021\"  # Serie A\n",
    "})\n",
    "table = resp[\"data\"].get(\"table\") or (resp[\"data\"].get(\"result\") or {}).get(\"total\") or []\n",
    "print(\"Rows:\", len(table))\n",
    "show_first(table, n=8)"
   ]
  },
  {
   "cell_type": "code",
   "execution_count": 42,
   "id": "ffa6c1f3",
   "metadata": {},
   "outputs": [
    {
     "name": "stdout",
     "output_type": "stream",
     "text": [
      "OK: True | Intent: teams.list\n",
      "Provider(s): {'primary': 'tsdb', 'fallback': None}\n",
      "Teams: 20\n",
      " 1. {'idTeam': '133604', 'idESPN': '359', 'idAPIfootball': '42', 'intLoved': '8', 'strTeam': 'Arsenal', 'strTeamAlternate': 'Arsenal Football Club, AFC, Arsenal FC', 'strTeamShort': 'ARS', 'intFormedYear': '1892'}\n",
      " 2. {'idTeam': '133601', 'idESPN': '4328', 'idAPIfootball': '66', 'intLoved': None, 'strTeam': 'Aston Villa', 'strTeamAlternate': 'Aston Villa FC', 'strTeamShort': 'AVL', 'intFormedYear': '1874'}\n",
      " 3. {'idTeam': '134301', 'idESPN': '349', 'idAPIfootball': '35', 'intLoved': '2', 'strTeam': 'Bournemouth', 'strTeamAlternate': 'AFC Bournemouth, Athletic Football Club Bournemouth', 'strTeamShort': 'BOU', 'intFormedYear': '1890'}\n",
      " 4. {'idTeam': '134355', 'idESPN': '337', 'idAPIfootball': '55', 'intLoved': '1', 'strTeam': 'Brentford', 'strTeamAlternate': 'Brentford Football Club, Brentford FC, BFC', 'strTeamShort': 'BRE', 'intFormedYear': '1889'}\n",
      " 5. {'idTeam': '133619', 'idESPN': '331', 'idAPIfootball': '51', 'intLoved': None, 'strTeam': 'Brighton and Hove Albion', 'strTeamAlternate': 'Brighton & Hove Albion Football Club, Brighton, BHAFC', 'strTeamShort': 'BRI', 'intFormedYear': '1901'}\n",
      " 6. {'idTeam': '133623', 'idESPN': '379', 'idAPIfootball': '44', 'intLoved': '0', 'strTeam': 'Burnley', 'strTeamAlternate': 'Burnley FC', 'strTeamShort': 'BUR', 'intFormedYear': '1882'}\n",
      " 7. {'idTeam': '133610', 'idESPN': '363', 'idAPIfootball': '49', 'intLoved': '5', 'strTeam': 'Chelsea', 'strTeamAlternate': 'Chelsea FC', 'strTeamShort': 'CHE', 'intFormedYear': '1905'}\n",
      " 8. {'idTeam': '133632', 'idESPN': '384', 'idAPIfootball': '52', 'intLoved': '0', 'strTeam': 'Crystal Palace', 'strTeamAlternate': 'Palace', 'strTeamShort': 'CRY', 'intFormedYear': '1905'}\n"
     ]
    }
   ],
   "source": [
    "# What it does: Teams by league or by teamName; TSDB primary (AS fallback).\n",
    "resp = call_router(\"teams.list\", {\n",
    "    \"leagueName\": \"English Premier League\",\n",
    "    # or: \"teamName\": \"Arsenal\"\n",
    "})\n",
    "teams = resp[\"data\"].get(\"teams\") or resp[\"data\"].get(\"result\") or []\n",
    "print(\"Teams:\", len(teams))\n",
    "show_first(teams, n=8)"
   ]
  },
  {
   "cell_type": "code",
   "execution_count": null,
   "id": "4ac6dbcb",
   "metadata": {},
   "outputs": [
    {
     "name": "stdout",
     "output_type": "stream",
     "text": [
      "OK: True | Intent: team.get\n",
      "Provider(s): {'primary': 'tsdb', 'fallback': 'allsports'}\n",
      "{'error': '1', 'result': [{'param': 'teamId', 'msg': 'Required parameter missing', 'cod': 201}]}\n"
     ]
    }
   ],
   "source": [
    "# What it does: Team detail; TSDB primary; AS fallback returns Teams result.\n",
    "resp = call_router(\"team.get\", {\n",
    "    # \"teamName\": \"Juventus\",\n",
    "    # \"teamId\": \"133676\"  # TSDB Juventus (example)\n",
    "    # AllSports: \"teamId\": \"96\"\n",
    "})\n",
    "show_first(resp[\"data\"].get(\"team\") or resp[\"data\"])"
   ]
  },
  {
   "cell_type": "code",
   "execution_count": 51,
   "id": "5341e258",
   "metadata": {},
   "outputs": [
    {
     "name": "stdout",
     "output_type": "stream",
     "text": [
      "OK: True | Intent: team.equipment\n",
      "Provider(s): {'primary': 'tsdb', 'fallback': None}\n",
      "Equipment rows: 44\n",
      " 1. {'idEquipment': '795', 'idTeam': '133676', 'date': '2019-10-09 14:41:44', 'strSeason': '2019-2020', 'strEquipment': 'https://r2.thesportsdb.com/images/media/team/equipment/2019-133676-Jersey.png', 'strType': '1st', 'strUsername': 'smudgie'}\n",
      " 2. {'idEquipment': '1152', 'idTeam': '133676', 'date': '2020-04-15 22:10:38', 'strSeason': '2019-2020', 'strEquipment': 'https://r2.thesportsdb.com/images/media/team/equipment/1yctl81586985025.png', 'strType': '2nd', 'strUsername': 'smudgie'}\n",
      " 3. {'idEquipment': '1153', 'idTeam': '133676', 'date': '2020-04-15 22:10:55', 'strSeason': '2019-2020', 'strEquipment': 'https://r2.thesportsdb.com/images/media/team/equipment/newfxj1586985041.png', 'strType': '3rd', 'strUsername': 'smudgie'}\n",
      " 4. {'idEquipment': '1687', 'idTeam': '133676', 'date': '2020-09-08 14:30:37', 'strSeason': '2020', 'strEquipment': 'https://r2.thesportsdb.com/images/media/team/equipment/w84vdq1599571829.png', 'strType': 'Home', 'strUsername': 'GOAviator'}\n",
      " 5. {'idEquipment': '1688', 'idTeam': '133676', 'date': '2020-09-08 14:30:53', 'strSeason': '2020-2021', 'strEquipment': 'https://r2.thesportsdb.com/images/media/team/equipment/82nft51599571846.png', 'strType': '1st', 'strUsername': 'GOAviator'}\n",
      " 6. {'idEquipment': '1689', 'idTeam': '133676', 'date': '2020-09-08 14:31:01', 'strSeason': '2020-2021', 'strEquipment': 'https://r2.thesportsdb.com/images/media/team/equipment/uvcyzv1599571855.png', 'strType': '2nd', 'strUsername': 'GOAviator'}\n"
     ]
    }
   ],
   "source": [
    "# What it does: Team equipment/kit images; TSDB-only feature.\n",
    "resp = call_router(\"team.equipment\", {\n",
    "    \"teamName\": \"Juventus\",\n",
    "    # \"teamId\": \"133604\"   # TSDB Arsenal (example)\n",
    "})\n",
    "equip = resp[\"data\"].get(\"equipment\") or []\n",
    "print(\"Equipment rows:\", len(equip))\n",
    "show_first(equip, n=6)"
   ]
  },
  {
   "cell_type": "code",
   "execution_count": null,
   "id": "5c9c8738",
   "metadata": {},
   "outputs": [
    {
     "name": "stdout",
     "output_type": "stream",
     "text": [
      "OK: True | Intent: players.list\n",
      "Provider(s): {'primary': 'allsports', 'fallback': None}\n",
      "Players: 30\n",
      " 1. {'player_key': 3012170221, 'player_name': 'Igor Tudor', 'player_number': None, 'player_country': None, 'player_type': 'Coach', 'player_age': None, 'player_match_played': None, 'player_goals': None}\n",
      " 2. {'player_key': 41841276, 'player_name': 'M. Perin', 'player_number': '1', 'player_country': 'Italy', 'player_type': 'Goalkeepers', 'player_age': '33', 'player_match_played': '', 'player_goals': ''}\n",
      " 3. {'player_key': 700014087, 'player_name': 'M. Di Gregorio', 'player_number': '29', 'player_country': 'Italy', 'player_type': 'Goalkeepers', 'player_age': '28', 'player_match_played': '', 'player_goals': ''}\n",
      " 4. {'player_key': 1136721488, 'player_name': 'C. Pinsoglio', 'player_number': '23', 'player_country': 'Italy', 'player_type': 'Goalkeepers', 'player_age': '35', 'player_match_played': '', 'player_goals': ''}\n",
      " 5. {'player_key': 1979491368, 'player_name': 'D. Rugani', 'player_number': '24', 'player_country': 'Italy', 'player_type': 'Defenders', 'player_age': '31', 'player_match_played': '', 'player_goals': ''}\n",
      " 6. {'player_key': 1242380593, 'player_name': 'João Mário', 'player_number': '23', 'player_country': 'Portugal', 'player_type': 'Defenders', 'player_age': '25', 'player_match_played': '', 'player_goals': ''}\n",
      " 7. {'player_key': 1732993775, 'player_name': 'A. Cambiaso', 'player_number': '27', 'player_country': 'Italy', 'player_type': 'Defenders', 'player_age': '25', 'player_match_played': '', 'player_goals': ''}\n",
      " 8. {'player_key': 3600918088, 'player_name': 'J. Cabal', 'player_number': '32', 'player_country': 'Colombia', 'player_type': 'Defenders', 'player_age': '24', 'player_match_played': '', 'player_goals': ''}\n"
     ]
    }
   ],
   "source": [
    "# What it does: Players; AllSports primary (supports playerName/teamId/leagueId), TSDB fallback if empty.\n",
    "# Change teamName/teamId as needed. Example AS teamId: Juventus=96\n",
    "resp = call_router(\"players.list\", {\n",
    "    # By team:\n",
    "    # \"teamName\": \"Juventus\",\n",
    "    # \"teamId\": \"96\",             # AllSports Juventus\n",
    "    # Or by player:\n",
    "    # \"playerName\": \"Lionel Messi\",\n",
    "})\n",
    "players = resp[\"data\"].get(\"result\") or resp[\"data\"].get(\"players\") or []\n",
    "print(\"Players:\", len(players))\n",
    "show_first(players, n=8)"
   ]
  },
  {
   "cell_type": "code",
   "execution_count": null,
   "id": "d7448dd8",
   "metadata": {},
   "outputs": [],
   "source": []
  }
 ],
 "metadata": {
  "kernelspec": {
   "display_name": ".venv",
   "language": "python",
   "name": "python3"
  },
  "language_info": {
   "codemirror_mode": {
    "name": "ipython",
    "version": 3
   },
   "file_extension": ".py",
   "mimetype": "text/x-python",
   "name": "python",
   "nbconvert_exporter": "python",
   "pygments_lexer": "ipython3",
   "version": "3.12.7"
  }
 },
 "nbformat": 4,
 "nbformat_minor": 5
}
