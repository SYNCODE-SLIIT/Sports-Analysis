{
 "cells": [
  {
   "cell_type": "markdown",
   "id": "125d78fa",
   "metadata": {},
   "source": [
    "\n",
    "# 📊 IRWA Sports Analysis — Live Match H2H & Win Probability\n",
    "\n",
    "This notebook mirrors the flow used by **matches.html** and the **AnalysisAgent**:\n",
    "\n",
    "1. Fetch **live** and **finished** matches (AllSports).\n",
    "2. Pick one **live match** (or a recent finished match as fallback).\n",
    "3. Retrieve **H2H** records.\n",
    "4. Compute **win probability** using the AnalysisAgent (H2H-driven and Auto).\n",
    "5. (Optional) Compare with provider probabilities.\n"
   ]
  },
  {
   "cell_type": "markdown",
   "id": "bae58700",
   "metadata": {},
   "source": [
    "## 1) Setup: imports, paths, and config"
   ]
  },
  {
   "cell_type": "code",
   "execution_count": 1,
   "id": "fbcea4c3",
   "metadata": {},
   "outputs": [
    {
     "name": "stdout",
     "output_type": "stream",
     "text": [
      "Using BACKEND_ROOT: /Users/vishwaperera/Desktop/Projects/Sports-Analysis/sports-ai/backend\n",
      "ALLSPORTS_API_KEY set? True\n"
     ]
    }
   ],
   "source": [
    "\n",
    "import json, glob, datetime as dt\n",
    "from typing import Any, Dict, List, Optional\n",
    "import pandas as pd\n",
    "\n",
    "import os, sys\n",
    "\n",
    "# Expect to run from your repo's `sports-ai/notebooks/` folder.\n",
    "PROJ_ROOT = os.path.abspath(os.path.join(os.getcwd(), \"..\"))\n",
    "BACKEND_ROOT = os.path.join(PROJ_ROOT, \"sports-ai\", \"backend\")\n",
    "\n",
    "# Fallback search upwards if needed\n",
    "if not os.path.isdir(BACKEND_ROOT):\n",
    "    here = os.path.abspath(os.getcwd())\n",
    "    for up in range(6):\n",
    "        cand = os.path.abspath(os.path.join(here, *([\"..\"]*up), \"sports-ai\", \"backend\"))\n",
    "        if os.path.isdir(cand):\n",
    "            BACKEND_ROOT = cand\n",
    "            break\n",
    "\n",
    "if BACKEND_ROOT not in sys.path:\n",
    "    sys.path.insert(0, BACKEND_ROOT)\n",
    "\n",
    "# Import from the app package (note the 'app.' prefix)\n",
    "from app.routers.router_collector import RouterCollector\n",
    "from app.agents.analysis_agent import AnalysisAgent\n",
    "\n",
    "# Optional sanity check\n",
    "assert os.path.isfile(os.path.join(BACKEND_ROOT, \"app\", \"__init__.py\")), \"app package not found\"\n",
    "print(\"Using BACKEND_ROOT:\", BACKEND_ROOT)\n",
    "\n",
    "\n",
    "ALLSPORTS_KEY = os.getenv(\"ALLSPORTS_API_KEY\")\n",
    "print(\"ALLSPORTS_API_KEY set?\" , bool(ALLSPORTS_KEY))\n",
    "\n",
    "def _rows_from_data(data: Any) -> List[Dict[str, Any]]:\n",
    "    if isinstance(data, list):\n",
    "        return data\n",
    "    if isinstance(data, dict):\n",
    "        for k in (\"result\",\"results\",\"events\",\"fixtures\",\"matches\",\"games\"):\n",
    "            v = data.get(k)\n",
    "            if isinstance(v, list):\n",
    "                return v\n",
    "    return []\n",
    "\n",
    "def _normalize_match(m: Dict[str, Any]) -> Dict[str, Any]:\n",
    "    return {\n",
    "        \"event_key\": m.get(\"event_key\") or m.get(\"event_id\") or m.get(\"match_id\") or m.get(\"idEvent\"),\n",
    "        \"league\": m.get(\"league_name\") or m.get(\"league\"),\n",
    "        \"home\": m.get(\"event_home_team\") or m.get(\"homeTeam\") or m.get(\"home_team\"),\n",
    "        \"away\": m.get(\"event_away_team\") or m.get(\"awayTeam\") or m.get(\"away_team\"),\n",
    "        \"date\": m.get(\"event_date\") or m.get(\"match_date\") or m.get(\"date\"),\n",
    "        \"time\": m.get(\"event_time\") or m.get(\"match_time\") or m.get(\"time\"),\n",
    "        \"status\": m.get(\"event_status\") or m.get(\"status\"),\n",
    "    }\n",
    "\n",
    "rc = RouterCollector()\n",
    "agent = rc.analysis\n"
   ]
  },
  {
   "cell_type": "markdown",
   "id": "2a401911",
   "metadata": {},
   "source": [
    "## 2) Live matches"
   ]
  },
  {
   "cell_type": "code",
   "execution_count": 2,
   "id": "0bdeae65",
   "metadata": {},
   "outputs": [
    {
     "name": "stdout",
     "output_type": "stream",
     "text": [
      "events.live ok: True\n"
     ]
    },
    {
     "data": {
      "text/html": [
       "<div>\n",
       "<style scoped>\n",
       "    .dataframe tbody tr th:only-of-type {\n",
       "        vertical-align: middle;\n",
       "    }\n",
       "\n",
       "    .dataframe tbody tr th {\n",
       "        vertical-align: top;\n",
       "    }\n",
       "\n",
       "    .dataframe thead th {\n",
       "        text-align: right;\n",
       "    }\n",
       "</style>\n",
       "<table border=\"1\" class=\"dataframe\">\n",
       "  <thead>\n",
       "    <tr style=\"text-align: right;\">\n",
       "      <th></th>\n",
       "      <th>event_key</th>\n",
       "      <th>league</th>\n",
       "      <th>home</th>\n",
       "      <th>away</th>\n",
       "      <th>date</th>\n",
       "      <th>time</th>\n",
       "      <th>status</th>\n",
       "    </tr>\n",
       "  </thead>\n",
       "  <tbody>\n",
       "    <tr>\n",
       "      <th>0</th>\n",
       "      <td>1600294</td>\n",
       "      <td>WK-League</td>\n",
       "      <td>Sejong Sportstoto W</td>\n",
       "      <td>Mungyeong Sangmu W</td>\n",
       "      <td>2025-09-04</td>\n",
       "      <td>12:00</td>\n",
       "      <td>Half Time</td>\n",
       "    </tr>\n",
       "    <tr>\n",
       "      <th>1</th>\n",
       "      <td>1654686</td>\n",
       "      <td>Premier League</td>\n",
       "      <td>Tsirang</td>\n",
       "      <td>Samtse</td>\n",
       "      <td>2025-09-04</td>\n",
       "      <td>12:00</td>\n",
       "      <td>45+</td>\n",
       "    </tr>\n",
       "    <tr>\n",
       "      <th>2</th>\n",
       "      <td>1667376</td>\n",
       "      <td>Club Friendlies - Club Friendlies 5</td>\n",
       "      <td>Brommapojkarna</td>\n",
       "      <td>Hammarby</td>\n",
       "      <td>2025-09-04</td>\n",
       "      <td>12:45</td>\n",
       "      <td>7</td>\n",
       "    </tr>\n",
       "    <tr>\n",
       "      <th>3</th>\n",
       "      <td>1672854</td>\n",
       "      <td>Club Friendlies</td>\n",
       "      <td>Grazer AK</td>\n",
       "      <td>A. Klagenfurt</td>\n",
       "      <td>2025-09-04</td>\n",
       "      <td>11:00</td>\n",
       "      <td>Finished</td>\n",
       "    </tr>\n",
       "    <tr>\n",
       "      <th>4</th>\n",
       "      <td>1672855</td>\n",
       "      <td>Club Friendlies</td>\n",
       "      <td>Den Bosch</td>\n",
       "      <td>Eindhoven FC</td>\n",
       "      <td>2025-09-04</td>\n",
       "      <td>12:00</td>\n",
       "      <td>Half Time</td>\n",
       "    </tr>\n",
       "    <tr>\n",
       "      <th>5</th>\n",
       "      <td>1672929</td>\n",
       "      <td>King's Cup</td>\n",
       "      <td>Iraq</td>\n",
       "      <td>Hong Kong</td>\n",
       "      <td>2025-09-04</td>\n",
       "      <td>11:00</td>\n",
       "      <td>90+</td>\n",
       "    </tr>\n",
       "  </tbody>\n",
       "</table>\n",
       "</div>"
      ],
      "text/plain": [
       "   event_key                               league                 home  \\\n",
       "0    1600294                            WK-League  Sejong Sportstoto W   \n",
       "1    1654686                       Premier League              Tsirang   \n",
       "2    1667376  Club Friendlies - Club Friendlies 5       Brommapojkarna   \n",
       "3    1672854                      Club Friendlies            Grazer AK   \n",
       "4    1672855                      Club Friendlies            Den Bosch   \n",
       "5    1672929                           King's Cup                 Iraq   \n",
       "\n",
       "                 away        date   time     status  \n",
       "0  Mungyeong Sangmu W  2025-09-04  12:00  Half Time  \n",
       "1              Samtse  2025-09-04  12:00        45+  \n",
       "2            Hammarby  2025-09-04  12:45          7  \n",
       "3       A. Klagenfurt  2025-09-04  11:00   Finished  \n",
       "4        Eindhoven FC  2025-09-04  12:00  Half Time  \n",
       "5           Hong Kong  2025-09-04  11:00        90+  "
      ]
     },
     "execution_count": 2,
     "metadata": {},
     "output_type": "execute_result"
    }
   ],
   "source": [
    "\n",
    "live_resp = rc.handle({\"intent\":\"events.live\", \"args\": {}})\n",
    "print(\"events.live ok:\", live_resp.get(\"ok\"))\n",
    "live_rows = _rows_from_data(live_resp.get(\"data\"))\n",
    "import pandas as pd\n",
    "live_df = pd.DataFrame([_normalize_match(m) for m in live_rows]) if live_rows else pd.DataFrame()\n",
    "live_df.head(10)\n"
   ]
  },
  {
   "cell_type": "markdown",
   "id": "d8de0a22",
   "metadata": {},
   "source": [
    "## 3) Finished matches (recent 7-day window)"
   ]
  },
  {
   "cell_type": "code",
   "execution_count": 3,
   "id": "4089fdff",
   "metadata": {},
   "outputs": [
    {
     "name": "stderr",
     "output_type": "stream",
     "text": [
      "/var/folders/9y/rhnq7_gj2_v_y6jhl2r06jx00000gn/T/ipykernel_45229/194905793.py:1: DeprecationWarning: datetime.datetime.utcnow() is deprecated and scheduled for removal in a future version. Use timezone-aware objects to represent datetimes in UTC: datetime.datetime.now(datetime.UTC).\n",
      "  to_dt = dt.datetime.utcnow().date()\n"
     ]
    },
    {
     "name": "stdout",
     "output_type": "stream",
     "text": [
      "fixtures.list ok: True window: {'from': '2025-08-28', 'to': '2025-09-04'}\n"
     ]
    },
    {
     "data": {
      "text/html": [
       "<div>\n",
       "<style scoped>\n",
       "    .dataframe tbody tr th:only-of-type {\n",
       "        vertical-align: middle;\n",
       "    }\n",
       "\n",
       "    .dataframe tbody tr th {\n",
       "        vertical-align: top;\n",
       "    }\n",
       "\n",
       "    .dataframe thead th {\n",
       "        text-align: right;\n",
       "    }\n",
       "</style>\n",
       "<table border=\"1\" class=\"dataframe\">\n",
       "  <thead>\n",
       "    <tr style=\"text-align: right;\">\n",
       "      <th></th>\n",
       "      <th>event_key</th>\n",
       "      <th>league</th>\n",
       "      <th>home</th>\n",
       "      <th>away</th>\n",
       "      <th>date</th>\n",
       "      <th>time</th>\n",
       "      <th>status</th>\n",
       "    </tr>\n",
       "  </thead>\n",
       "  <tbody>\n",
       "    <tr>\n",
       "      <th>0</th>\n",
       "      <td>1631429</td>\n",
       "      <td>UEFA World Cup Qualifiers - Group Stage</td>\n",
       "      <td>Kazakhstan</td>\n",
       "      <td>Wales</td>\n",
       "      <td>2025-09-04</td>\n",
       "      <td>16:00</td>\n",
       "      <td>None</td>\n",
       "    </tr>\n",
       "    <tr>\n",
       "      <th>1</th>\n",
       "      <td>1631430</td>\n",
       "      <td>UEFA World Cup Qualifiers - Group Stage</td>\n",
       "      <td>Georgia</td>\n",
       "      <td>Turkey</td>\n",
       "      <td>2025-09-04</td>\n",
       "      <td>18:00</td>\n",
       "      <td>None</td>\n",
       "    </tr>\n",
       "    <tr>\n",
       "      <th>2</th>\n",
       "      <td>1631431</td>\n",
       "      <td>UEFA World Cup Qualifiers - Group Stage</td>\n",
       "      <td>Lithuania</td>\n",
       "      <td>Malta</td>\n",
       "      <td>2025-09-04</td>\n",
       "      <td>18:00</td>\n",
       "      <td>None</td>\n",
       "    </tr>\n",
       "    <tr>\n",
       "      <th>3</th>\n",
       "      <td>1631432</td>\n",
       "      <td>UEFA World Cup Qualifiers - Group Stage</td>\n",
       "      <td>Luxembourg</td>\n",
       "      <td>Northern Ireland</td>\n",
       "      <td>2025-09-04</td>\n",
       "      <td>20:45</td>\n",
       "      <td>None</td>\n",
       "    </tr>\n",
       "    <tr>\n",
       "      <th>4</th>\n",
       "      <td>1631433</td>\n",
       "      <td>UEFA World Cup Qualifiers - Group Stage</td>\n",
       "      <td>Slovakia</td>\n",
       "      <td>Germany</td>\n",
       "      <td>2025-09-04</td>\n",
       "      <td>20:45</td>\n",
       "      <td>None</td>\n",
       "    </tr>\n",
       "    <tr>\n",
       "      <th>5</th>\n",
       "      <td>1631434</td>\n",
       "      <td>UEFA World Cup Qualifiers - Group Stage</td>\n",
       "      <td>Bulgaria</td>\n",
       "      <td>Spain</td>\n",
       "      <td>2025-09-04</td>\n",
       "      <td>20:45</td>\n",
       "      <td>None</td>\n",
       "    </tr>\n",
       "    <tr>\n",
       "      <th>6</th>\n",
       "      <td>1631435</td>\n",
       "      <td>UEFA World Cup Qualifiers - Group Stage</td>\n",
       "      <td>Netherlands</td>\n",
       "      <td>Poland</td>\n",
       "      <td>2025-09-04</td>\n",
       "      <td>20:45</td>\n",
       "      <td>None</td>\n",
       "    </tr>\n",
       "    <tr>\n",
       "      <th>7</th>\n",
       "      <td>1631436</td>\n",
       "      <td>UEFA World Cup Qualifiers - Group Stage</td>\n",
       "      <td>Liechtenstein</td>\n",
       "      <td>Belgium</td>\n",
       "      <td>2025-09-04</td>\n",
       "      <td>20:45</td>\n",
       "      <td>None</td>\n",
       "    </tr>\n",
       "    <tr>\n",
       "      <th>8</th>\n",
       "      <td>125498</td>\n",
       "      <td>CAF World Cup Qualifiers - Group Stage</td>\n",
       "      <td>Mauritius</td>\n",
       "      <td>Cape Verde</td>\n",
       "      <td>2025-09-04</td>\n",
       "      <td>18:00</td>\n",
       "      <td>None</td>\n",
       "    </tr>\n",
       "    <tr>\n",
       "      <th>9</th>\n",
       "      <td>130942</td>\n",
       "      <td>CAF World Cup Qualifiers - Group Stage</td>\n",
       "      <td>Cameroon</td>\n",
       "      <td>Eswatini</td>\n",
       "      <td>2025-09-04</td>\n",
       "      <td>21:00</td>\n",
       "      <td>None</td>\n",
       "    </tr>\n",
       "  </tbody>\n",
       "</table>\n",
       "</div>"
      ],
      "text/plain": [
       "   event_key                                   league           home  \\\n",
       "0    1631429  UEFA World Cup Qualifiers - Group Stage     Kazakhstan   \n",
       "1    1631430  UEFA World Cup Qualifiers - Group Stage        Georgia   \n",
       "2    1631431  UEFA World Cup Qualifiers - Group Stage      Lithuania   \n",
       "3    1631432  UEFA World Cup Qualifiers - Group Stage     Luxembourg   \n",
       "4    1631433  UEFA World Cup Qualifiers - Group Stage       Slovakia   \n",
       "5    1631434  UEFA World Cup Qualifiers - Group Stage       Bulgaria   \n",
       "6    1631435  UEFA World Cup Qualifiers - Group Stage    Netherlands   \n",
       "7    1631436  UEFA World Cup Qualifiers - Group Stage  Liechtenstein   \n",
       "8     125498   CAF World Cup Qualifiers - Group Stage      Mauritius   \n",
       "9     130942   CAF World Cup Qualifiers - Group Stage       Cameroon   \n",
       "\n",
       "               away        date   time status  \n",
       "0             Wales  2025-09-04  16:00   None  \n",
       "1            Turkey  2025-09-04  18:00   None  \n",
       "2             Malta  2025-09-04  18:00   None  \n",
       "3  Northern Ireland  2025-09-04  20:45   None  \n",
       "4           Germany  2025-09-04  20:45   None  \n",
       "5             Spain  2025-09-04  20:45   None  \n",
       "6            Poland  2025-09-04  20:45   None  \n",
       "7           Belgium  2025-09-04  20:45   None  \n",
       "8        Cape Verde  2025-09-04  18:00   None  \n",
       "9          Eswatini  2025-09-04  21:00   None  "
      ]
     },
     "execution_count": 3,
     "metadata": {},
     "output_type": "execute_result"
    }
   ],
   "source": [
    "\n",
    "to_dt = dt.datetime.utcnow().date()\n",
    "from_dt = to_dt - dt.timedelta(days=7)\n",
    "fix_args = {\"from\": str(from_dt), \"to\": str(to_dt)}\n",
    "\n",
    "fix_resp = rc.handle({\"intent\":\"fixtures.list\", \"args\": fix_args})\n",
    "print(\"fixtures.list ok:\", fix_resp.get(\"ok\"), \"window:\", fix_args)\n",
    "fix_rows = _rows_from_data(fix_resp.get(\"data\"))\n",
    "fix_df = pd.DataFrame([_normalize_match(m) for m in fix_rows]) if fix_rows else pd.DataFrame()\n",
    "fix_df.head(10)\n"
   ]
  },
  {
   "cell_type": "markdown",
   "id": "ef6a8c7f",
   "metadata": {},
   "source": [
    "### (Optional) Cache fallback (if API not available)"
   ]
  },
  {
   "cell_type": "code",
   "execution_count": null,
   "id": "65955042",
   "metadata": {},
   "outputs": [],
   "source": [
    "\n",
    "if live_df.empty and fix_df.empty:\n",
    "    APP_PATH = sys.path[0] if sys.path else os.getcwd()\n",
    "    cache_candidates = []\n",
    "    # Try common cache folder relative to app path\n",
    "    for p in sys.path:\n",
    "        cand = os.path.join(p, \"cache\")\n",
    "        if os.path.isdir(cand):\n",
    "            cache_candidates.append(cand)\n",
    "    cache_dir = cache_candidates[0] if cache_candidates else None\n",
    "    \n",
    "    if cache_dir:\n",
    "        files = sorted(glob.glob(os.path.join(cache_dir, \"fixtures_*.json\")))\n",
    "        print(\"Cache files found:\", len(files), \"in\", cache_dir)\n",
    "        if files:\n",
    "            with open(files[-1], \"r\", encoding=\"utf-8\") as f:\n",
    "                cache = json.load(f)\n",
    "            rows = _rows_from_data(cache)\n",
    "            fix_df = pd.DataFrame([_normalize_match(m) for m in rows])\n",
    "            print(\"Loaded\", len(fix_df), \"matches from cache\", os.path.basename(files[-1]))\n",
    "fix_df.head(10)\n"
   ]
  },
  {
   "cell_type": "markdown",
   "id": "63d303ea",
   "metadata": {},
   "source": [
    "## 4) Select a match (prefer live, else finished)"
   ]
  },
  {
   "cell_type": "code",
   "execution_count": 4,
   "id": "0abad5df",
   "metadata": {},
   "outputs": [
    {
     "name": "stdout",
     "output_type": "stream",
     "text": [
      "Selected: ('live', '1600294')\n"
     ]
    },
    {
     "data": {
      "text/plain": [
       "'1600294'"
      ]
     },
     "execution_count": 4,
     "metadata": {},
     "output_type": "execute_result"
    }
   ],
   "source": [
    "\n",
    "selected = None\n",
    "if not live_df.empty:\n",
    "    ek = live_df.iloc[0][\"event_key\"]\n",
    "    selected = (\"live\", str(ek))\n",
    "elif not fix_df.empty:\n",
    "    ek = fix_df.iloc[0][\"event_key\"]\n",
    "    selected = (\"finished\", str(ek))\n",
    "\n",
    "print(\"Selected:\", selected)\n",
    "assert selected is not None, \"No match available. Set ALLSPORTS_API_KEY or ensure cache fixtures exist.\"\n",
    "match_type, event_id = selected\n",
    "event_id\n"
   ]
  },
  {
   "cell_type": "markdown",
   "id": "eb1ea5fb",
   "metadata": {},
   "source": [
    "## 5) H2H summary (analysis.h2h)"
   ]
  },
  {
   "cell_type": "code",
   "execution_count": null,
   "id": "66464925",
   "metadata": {},
   "outputs": [
    {
     "name": "stdout",
     "output_type": "stream",
     "text": [
      "analysis.h2h ok: True\n"
     ]
    },
    {
     "data": {
      "text/plain": [
       "{'ok': True,\n",
       " 'intent': 'analysis.h2h',\n",
       " 'args_resolved': {'eventId': '1600294', 'lookback': 10},\n",
       " 'data': {'eventId': '1600294',\n",
       "  'sample_size': 5,\n",
       "  'record': {'homeWins': 3, 'draws': 1, 'awayWins': 1},\n",
       "  'goals': {'home': 9, 'away': 8}},\n",
       " 'error': None,\n",
       " 'meta': {'source': {'primary': 'analysis', 'fallback': 'allsports'},\n",
       "  'trace': [{'step': 'sports.event.get',\n",
       "    'ok': True,\n",
       "    'raw_meta': {'trace': [{'step': 'allsports_call',\n",
       "       'met': 'Fixtures',\n",
       "       'status': 200,\n",
       "       'sent': {'eventId': '1600294',\n",
       "        'matchId': '1600294',\n",
       "        'met': 'Fixtures',\n",
       "        '_ts': '1756983141.6232362'},\n",
       "       'ok': True}],\n",
       "     'base_url': 'https://apiv2.allsportsapi.com/football'}},\n",
       "   {'step': 'sports.h2h', 'ok': True},\n",
       "   {'step': 'sports.fixtures.list',\n",
       "    'ok': True,\n",
       "    'args': {'teamId': '10929', 'from': '2024-07-11', 'to': '2025-09-04'}},\n",
       "   {'step': 'sports.fixtures.list',\n",
       "    'ok': True,\n",
       "    'args': {'teamId': '10926', 'from': '2024-07-11', 'to': '2025-09-04'}}]}}"
      ]
     },
     "execution_count": 5,
     "metadata": {},
     "output_type": "execute_result"
    }
   ],
   "source": [
    "\n",
    "h2h = rc.handle({\"intent\": \"analysis.h2h\", \"args\": {\"eventId\": event_id, \"lookback\": 10}})\n",
    "print(\"analysis.h2h ok:\", h2h.get(\"ok\"))\n",
    "h2h\n"
   ]
  },
  {
   "cell_type": "markdown",
   "id": "677992ce",
   "metadata": {},
   "source": [
    "## 6) Win probability — H2H-driven and Auto"
   ]
  },
  {
   "cell_type": "code",
   "execution_count": 6,
   "id": "17f80a4c",
   "metadata": {},
   "outputs": [
    {
     "name": "stdout",
     "output_type": "stream",
     "text": [
      "H2H ok: True | Auto ok: True\n"
     ]
    },
    {
     "data": {
      "text/plain": [
       "({'ok': True,\n",
       "  'intent': 'analysis.winprob',\n",
       "  'args_resolved': {'eventId': '1600294'},\n",
       "  'data': {'eventId': '1600294',\n",
       "   'method': 'h2h_dirichlet',\n",
       "   'probs': {'home': 0.39426023246801845,\n",
       "    'draw': 0.3142325013591812,\n",
       "    'away': 0.29150726617280037},\n",
       "   'inputs': {'lookback': 10,\n",
       "    'half_life': 4.0,\n",
       "    'venue_weight': 1.25,\n",
       "    'alpha': (1.5, 1.5, 1.5),\n",
       "    'sample_size': 5,\n",
       "    'effective_weight': 4.251482}},\n",
       "  'error': None,\n",
       "  'meta': {'source': {'primary': 'analysis', 'fallback': 'allsports'},\n",
       "   'trace': [{'step': 'sports.event.get',\n",
       "     'ok': True,\n",
       "     'raw_meta': {'trace': [{'step': 'allsports_call',\n",
       "        'met': 'Fixtures',\n",
       "        'status': 200,\n",
       "        'sent': {'eventId': '1600294',\n",
       "         'matchId': '1600294',\n",
       "         'met': 'Fixtures',\n",
       "         '_ts': '1756983197.006059'},\n",
       "        'ok': True}],\n",
       "      'base_url': 'https://apiv2.allsportsapi.com/football'}},\n",
       "    {'step': 'sports.h2h', 'ok': True},\n",
       "    {'step': 'sports.fixtures.list',\n",
       "     'ok': True,\n",
       "     'args': {'teamId': '10929', 'from': '2024-07-11', 'to': '2025-09-04'}},\n",
       "    {'step': 'sports.fixtures.list',\n",
       "     'ok': True,\n",
       "     'args': {'teamId': '10926', 'from': '2024-07-11', 'to': '2025-09-04'}}]}},\n",
       " {'ok': True,\n",
       "  'intent': 'analysis.winprob',\n",
       "  'args_resolved': {'eventId': '1600294'},\n",
       "  'data': {'eventId': '1600294',\n",
       "   'method': 'h2h_dirichlet',\n",
       "   'probs': {'home': 0.39426023246801845,\n",
       "    'draw': 0.3142325013591812,\n",
       "    'away': 0.29150726617280037},\n",
       "   'inputs': {'lookback': 10,\n",
       "    'half_life': 4.0,\n",
       "    'venue_weight': 1.25,\n",
       "    'alpha': (1.5, 1.5, 1.5),\n",
       "    'sample_size': 5,\n",
       "    'effective_weight': 4.251482}},\n",
       "  'error': None,\n",
       "  'meta': {'source': {'primary': 'analysis', 'fallback': 'allsports'},\n",
       "   'trace': [{'step': 'sports.event.get',\n",
       "     'ok': True,\n",
       "     'raw_meta': {'trace': [{'step': 'allsports_call',\n",
       "        'met': 'Fixtures',\n",
       "        'status': 200,\n",
       "        'sent': {'eventId': '1600294',\n",
       "         'matchId': '1600294',\n",
       "         'met': 'Fixtures',\n",
       "         '_ts': '1756983208.4943721'},\n",
       "        'ok': True}],\n",
       "      'base_url': 'https://apiv2.allsportsapi.com/football'}},\n",
       "    {'step': 'sports.h2h', 'ok': True},\n",
       "    {'step': 'sports.fixtures.list',\n",
       "     'ok': True,\n",
       "     'args': {'teamId': '10929', 'from': '2024-07-11', 'to': '2025-09-04'}},\n",
       "    {'step': 'sports.fixtures.list',\n",
       "     'ok': True,\n",
       "     'args': {'teamId': '10926', 'from': '2024-07-11', 'to': '2025-09-04'}}]}})"
      ]
     },
     "execution_count": 6,
     "metadata": {},
     "output_type": "execute_result"
    }
   ],
   "source": [
    "\n",
    "wp_h2h = rc.handle({\"intent\": \"analysis.winprob\", \"args\": {\"eventId\": event_id, \"source\": \"h2h\", \"lookback\": 10}})\n",
    "wp_auto = rc.handle({\"intent\": \"analysis.winprob\", \"args\": {\"eventId\": event_id, \"source\": \"auto\", \"lookback\": 10}})\n",
    "\n",
    "print(\"H2H ok:\", wp_h2h.get(\"ok\"), \"| Auto ok:\", wp_auto.get(\"ok\"))\n",
    "wp_h2h, wp_auto\n"
   ]
  },
  {
   "cell_type": "markdown",
   "id": "ec80db14",
   "metadata": {},
   "source": [
    "## 7) (Optional) Provider probabilities (`probabilities.list`)"
   ]
  },
  {
   "cell_type": "code",
   "execution_count": 7,
   "id": "5ff53a68",
   "metadata": {},
   "outputs": [
    {
     "name": "stdout",
     "output_type": "stream",
     "text": [
      "probabilities.list ok: True\n"
     ]
    }
   ],
   "source": [
    "\n",
    "try:\n",
    "    prov = rc.handle({\"intent\": \"probabilities.list\", \"args\": {\"matchId\": event_id}})\n",
    "    print(\"probabilities.list ok:\", prov.get(\"ok\"))\n",
    "    prov\n",
    "except Exception as e:\n",
    "    print(\"Provider probabilities lookup failed:\", e)\n"
   ]
  },
  {
   "cell_type": "markdown",
   "id": "96ba6acb",
   "metadata": {},
   "source": [
    "## 8) Comparison table"
   ]
  },
  {
   "cell_type": "code",
   "execution_count": 8,
   "id": "994ffb51",
   "metadata": {},
   "outputs": [
    {
     "data": {
      "text/html": [
       "<div>\n",
       "<style scoped>\n",
       "    .dataframe tbody tr th:only-of-type {\n",
       "        vertical-align: middle;\n",
       "    }\n",
       "\n",
       "    .dataframe tbody tr th {\n",
       "        vertical-align: top;\n",
       "    }\n",
       "\n",
       "    .dataframe thead th {\n",
       "        text-align: right;\n",
       "    }\n",
       "</style>\n",
       "<table border=\"1\" class=\"dataframe\">\n",
       "  <thead>\n",
       "    <tr style=\"text-align: right;\">\n",
       "      <th></th>\n",
       "      <th>eventId</th>\n",
       "      <th>wp_h2h_home</th>\n",
       "      <th>wp_h2h_draw</th>\n",
       "      <th>wp_h2h_away</th>\n",
       "      <th>wp_auto_home</th>\n",
       "      <th>wp_auto_draw</th>\n",
       "      <th>wp_auto_away</th>\n",
       "    </tr>\n",
       "  </thead>\n",
       "  <tbody>\n",
       "    <tr>\n",
       "      <th>0</th>\n",
       "      <td>1600294</td>\n",
       "      <td>0.39426</td>\n",
       "      <td>0.314233</td>\n",
       "      <td>0.291507</td>\n",
       "      <td>0.39426</td>\n",
       "      <td>0.314233</td>\n",
       "      <td>0.291507</td>\n",
       "    </tr>\n",
       "  </tbody>\n",
       "</table>\n",
       "</div>"
      ],
      "text/plain": [
       "   eventId  wp_h2h_home  wp_h2h_draw  wp_h2h_away  wp_auto_home  wp_auto_draw  \\\n",
       "0  1600294      0.39426     0.314233     0.291507       0.39426      0.314233   \n",
       "\n",
       "   wp_auto_away  \n",
       "0      0.291507  "
      ]
     },
     "execution_count": 8,
     "metadata": {},
     "output_type": "execute_result"
    }
   ],
   "source": [
    "\n",
    "import pandas as pd\n",
    "from typing import Dict, Any, Optional\n",
    "\n",
    "def _probs_from_resp(resp: Dict[str, Any]) -> Optional[Dict[str, float]]:\n",
    "    if not resp or not resp.get(\"ok\"):\n",
    "        return None\n",
    "    data = resp.get(\"data\") or {}\n",
    "    return data.get(\"probs\")\n",
    "\n",
    "def _prov_probs(prov: Dict[str, Any]) -> Optional[Dict[str, float]]:\n",
    "    if not prov or not prov.get(\"ok\"):\n",
    "        return None\n",
    "    data = prov.get(\"data\") or {}\n",
    "    # Flat keys\n",
    "    keys = (\"prob_HW\",\"prob_D\",\"prob_AW\")\n",
    "    if all(k in data for k in keys):\n",
    "        return {\"home\": data[\"prob_HW\"], \"draw\": data[\"prob_D\"], \"away\": data[\"prob_AW\"]}\n",
    "    # Look into first row under list-like keys\n",
    "    for k in (\"result\",\"results\",\"events\",\"fixtures\",\"matches\"):\n",
    "        rows = data.get(k)\n",
    "        if isinstance(rows, list) and rows:\n",
    "            r = rows[0]\n",
    "            if all(x in r for x in keys):\n",
    "                return {\"home\": r[\"prob_HW\"], \"draw\": r[\"prob_D\"], \"away\": r[\"prob_AW\"]}\n",
    "    return None\n",
    "\n",
    "row = {\"eventId\": event_id}\n",
    "p_h2h = _probs_from_resp(wp_h2h); p_auto = _probs_from_resp(wp_auto)\n",
    "if p_h2h:\n",
    "    row.update({f\"wp_h2h_{k}\": v for k, v in p_h2h.items()})\n",
    "if p_auto:\n",
    "    row.update({f\"wp_auto_{k}\": v for k, v in p_auto.items()})\n",
    "\n",
    "try:\n",
    "    p_prov = _prov_probs(prov)  # may not exist if previous cell skipped\n",
    "except NameError:\n",
    "    p_prov = None\n",
    "if p_prov:\n",
    "    row.update({f\"prov_{k}\": v for k, v in p_prov.items()})\n",
    "\n",
    "pd.DataFrame([row])\n"
   ]
  },
  {
   "cell_type": "markdown",
   "id": "c6c42ceb",
   "metadata": {},
   "source": [
    "\n",
    "## 9) Notes on methodology\n",
    "- **H2H estimator**: Dirichlet-multinomial with recency decay and venue orientation alignment.\n",
    "\n",
    "- **Auto mode**: `odds → h2h → form`.\n",
    "\n",
    "- **Explainability**: Outputs include `method` and `inputs` (`lookback`, `half_life`, `venue_weight`, `sample_size`).\n",
    "\n",
    "- **Fairness**: H2H reflects historical matchups; recent weighting reduces legacy bias.\n",
    "\n",
    "- **Data protection**: Avoid logging secrets; use environment variables for API keys.\n"
   ]
  }
 ],
 "metadata": {
  "kernelspec": {
   "display_name": ".venv",
   "language": "python",
   "name": "python3"
  },
  "language_info": {
   "codemirror_mode": {
    "name": "ipython",
    "version": 3
   },
   "file_extension": ".py",
   "mimetype": "text/x-python",
   "name": "python",
   "nbconvert_exporter": "python",
   "pygments_lexer": "ipython3",
   "version": "3.13.5"
  }
 },
 "nbformat": 4,
 "nbformat_minor": 5
}
