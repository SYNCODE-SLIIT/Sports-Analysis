{
 "cells": [
  {
   "cell_type": "markdown",
   "id": "2368932c",
   "metadata": {},
   "source": [
    "# Minimal RAG: Tavily + Groq (Clean Notebook)\n",
    "\n",
    "This notebook lets you ask a question, performs a **Tavily web search**, builds a short **context**, and asks **Groq** to answer.  \n",
    "**Requirements:** set `TAVIL_API_KEY` (or `TAVILY_API_KEY`) and `GROQ_API_KEY` in your environment or a local `.env` file."
   ]
  },
  {
   "cell_type": "markdown",
   "id": "8e19287a",
   "metadata": {},
   "source": [
    "## 1) (Optional) Install dependencies"
   ]
  },
  {
   "cell_type": "code",
   "execution_count": null,
   "id": "538a557b",
   "metadata": {},
   "outputs": [],
   "source": [
    "# If running locally, uncomment:\n",
    "# %pip install requests python-dotenv"
   ]
  },
  {
   "cell_type": "markdown",
   "id": "fac256c2",
   "metadata": {},
   "source": [
    "## 2) Load environment + basic settings"
   ]
  },
  {
   "cell_type": "code",
   "execution_count": 3,
   "id": "0bd43dff",
   "metadata": {},
   "outputs": [
    {
     "name": "stdout",
     "output_type": "stream",
     "text": [
      "TAVIL_API_KEY present?  True\n",
      "GROQ_API_KEY present?   True\n",
      "Groq model:             llama-3.3-70b-versatile\n"
     ]
    }
   ],
   "source": [
    "import os, json, requests\n",
    "from typing import List, Dict\n",
    "from dotenv import load_dotenv\n",
    "\n",
    "load_dotenv()\n",
    "\n",
    "# Keys (TAVIL_API_KEY preferred; fallback to TAVILY_API_KEY)\n",
    "TAVIL_API_KEY = os.getenv(\"TAVIL_API_KEY\", \"\") or os.getenv(\"TAVILY_API_KEY\", \"\")\n",
    "GROQ_API_KEY  = os.getenv(\"GROQ_API_KEY\", \"\")\n",
    "\n",
    "# Model (you can change if you like)\n",
    "GROQ_MODEL = os.getenv(\"GROQ_MODEL\", \"\")\n",
    "\n",
    "print(\"TAVIL_API_KEY present? \", bool(TAVIL_API_KEY))\n",
    "print(\"GROQ_API_KEY present?  \", bool(GROQ_API_KEY))\n",
    "print(\"Groq model:            \", GROQ_MODEL)"
   ]
  },
  {
   "cell_type": "markdown",
   "id": "0659bc6a",
   "metadata": {},
   "source": [
    "## 3) Helpers (HTTP + pretty JSON)"
   ]
  },
  {
   "cell_type": "code",
   "execution_count": 4,
   "id": "1bf54b84",
   "metadata": {},
   "outputs": [],
   "source": [
    "def pjson(obj):\n",
    "    import json\n",
    "    print(json.dumps(obj, indent=2, ensure_ascii=False))\n",
    "\n",
    "def safe_post(url, **kwargs):\n",
    "    import requests\n",
    "    try:\n",
    "        r = requests.post(url, timeout=45, **kwargs)\n",
    "        r.raise_for_status()\n",
    "        return r\n",
    "    except Exception as e:\n",
    "        print(f\"[POST ERROR] {url} -> {e}\")\n",
    "        if hasattr(e, 'response') and e.response is not None:\n",
    "            print(e.response.text)\n",
    "        return None"
   ]
  },
  {
   "cell_type": "markdown",
   "id": "fb55a7a2",
   "metadata": {},
   "source": [
    "## 4) Tavily search"
   ]
  },
  {
   "cell_type": "code",
   "execution_count": 5,
   "id": "10ab2f93",
   "metadata": {},
   "outputs": [],
   "source": [
    "def tavily_search(query: str, max_results: int = 5):\n",
    "    if not TAVIL_API_KEY:\n",
    "        raise RuntimeError(\"Missing TAVIL_API_KEY (or TAVILY_API_KEY). Put it in your environment or .env\")\n",
    "    url = \"https://api.tavily.com/search\"\n",
    "    headers = {\"Authorization\": f\"Bearer {TAVIL_API_KEY}\"}\n",
    "    payload = {\"query\": query, \"max_results\": max_results}\n",
    "    r = safe_post(url, headers=headers, json=payload)\n",
    "    return r.json() if r else {}"
   ]
  },
  {
   "cell_type": "markdown",
   "id": "870923e2",
   "metadata": {},
   "source": [
    "## 5) Normalize results + build compact context"
   ]
  },
  {
   "cell_type": "code",
   "execution_count": 6,
   "id": "e84d17da",
   "metadata": {},
   "outputs": [],
   "source": [
    "from typing import List, Dict\n",
    "\n",
    "def normalize_tavily(tav: Dict) -> List[Dict]:\n",
    "    items = []\n",
    "    if isinstance(tav, dict):\n",
    "        for r in tav.get(\"results\", []):\n",
    "            items.append({\n",
    "                \"title\": r.get(\"title\"),\n",
    "                \"url\": r.get(\"url\"),\n",
    "                \"snippet\": r.get(\"content\") or \"\",\n",
    "                \"score\": r.get(\"score\")\n",
    "            })\n",
    "    uniq, seen = [], set()\n",
    "    for it in items:\n",
    "        u = it.get(\"url\")\n",
    "        if u and u not in seen:\n",
    "            uniq.append(it)\n",
    "            seen.add(u)\n",
    "    return uniq\n",
    "\n",
    "def build_context(items: List[Dict], top_k: int = 5) -> str:\n",
    "    blocks = []\n",
    "    for r in items[:top_k]:\n",
    "        title = r.get(\"title\") or \"\"\n",
    "        url = r.get(\"url\") or \"\"\n",
    "        snip = r.get(\"snippet\") or \"\"\n",
    "        blocks.append(f\"{title}\\n{snip}\\nSource: {url}\")\n",
    "    return \"\\n\\n---\\n\\n\".join(blocks)"
   ]
  },
  {
   "cell_type": "markdown",
   "id": "7cd4e920",
   "metadata": {},
   "source": [
    "## 6) Ask Groq with context (HTTP API)"
   ]
  },
  {
   "cell_type": "code",
   "execution_count": null,
   "id": "8f3a6692",
   "metadata": {},
   "outputs": [],
   "source": [
    "def ask_groq(question: str, context: str, temperature: float = 0.2, model: str = None) -> str:\n",
    "    if not GROQ_API_KEY:\n",
    "        raise RuntimeError(\"Missing GROQ_API_KEY. Put it in your environment or .env\")\n",
    "    if model is None:\n",
    "        model = GROQ_MODEL\n",
    "    url = \"https://api.groq.com/openai/v1/chat/completions\"\n",
    "    headers = {\"Authorization\": f\"Bearer {GROQ_API_KEY}\", \"Content-Type\": \"application/json\"}\n",
    "    system_msg = (\n",
    "        \"You are a concise sports assistant. Use ONLY the provided context for factual claims. \"\n",
    "        \"Include a short citations list with exact source URLs used. \"\n",
    "        \"If the context lacks the answer, say you do not have enough information.\"\n",
    "        \"Do not provide any answers for content not related to sports\"\n",
    "    )\n",
    "    messages = [\n",
    "        {\"role\": \"system\", \"content\": system_msg},\n",
    "        {\"role\": \"user\", \"content\": f\"Context:\\n{context}\\n\\nQuestion:\\n{question}\"}]\n",
    "    payload = {\"model\": model, \"messages\": messages, \"temperature\": temperature, \"stream\": False}\n",
    "    r = safe_post(url, headers=headers, json=payload)\n",
    "    if not r:\n",
    "        return \"[ERR] Groq request failed.\"\n",
    "    try:\n",
    "        data = r.json()\n",
    "        return data[\"choices\"][0][\"message\"][\"content\"]\n",
    "    except Exception as e:\n",
    "        return f\"[ERR] {e}\""
   ]
  },
  {
   "cell_type": "markdown",
   "id": "ad04229d",
   "metadata": {},
   "source": [
    "## 7) One-call helper: search → context → Groq answer"
   ]
  },
  {
   "cell_type": "code",
   "execution_count": 8,
   "id": "4b8950c4",
   "metadata": {},
   "outputs": [],
   "source": [
    "def ask_with_web_search(user_query: str, top_k: int = 5) -> dict:\n",
    "    tav = tavily_search(user_query, max_results=max(5, top_k))\n",
    "    items = normalize_tavily(tav)\n",
    "    ctx = build_context(items, top_k=top_k)\n",
    "    ans = ask_groq(user_query, context=ctx)\n",
    "    return {\"answer\": ans, \"citations\": items[:top_k]}"
   ]
  },
  {
   "cell_type": "markdown",
   "id": "07459328",
   "metadata": {},
   "source": [
    "## 8) Ask your own question"
   ]
  },
  {
   "cell_type": "code",
   "execution_count": 9,
   "id": "7c0d8eca",
   "metadata": {},
   "outputs": [
    {
     "name": "stdout",
     "output_type": "stream",
     "text": [
      "According to the provided sources, the top goal scorers in the Premier League are:\n",
      "\n",
      "1. Erling Haaland with 5-9 goals (sources: Transfermarkt, SuperSport, Goal)\n",
      "2. Other top scorers include Viktor Gyökeres, Antoine Semenyo, A. Semenyo, J. Anthony, and others with 3-6 goals (sources: SuperSport, Goal)\n",
      "\n",
      "Please note that the exact number of goals for each player might vary slightly depending on the source.\n",
      "\n",
      "Citations:\n",
      "- https://www.transfermarkt.com/premier-league/torschuetzenliste/wettbewerb/GB1\n",
      "- https://supersport.com/football/premier-league/top-scorers\n",
      "- https://www.goal.com/en-us/premier-league/top-players/2kwbbcootiqqgmrzs6o5inle5\n",
      "\n",
      "Citations:\n",
      "- List of goalscorers Premier League 25/26 - Transfermarkt -> https://www.transfermarkt.com/premier-league/torschuetzenliste/wettbewerb/GB1\n",
      "- Premier League Top Scorers | SuperSport -> https://supersport.com/football/premier-league/top-scorers\n",
      "- Premier League Top Players - Goals, Assists, Tackles, Clean Sheets ... -> https://www.goal.com/en-us/premier-league/top-players/2kwbbcootiqqgmrzs6o5inle5\n",
      "- Premier League Top Scorers - BBC Sport -> https://www.bbc.com/sport/football/premier-league/top-scorers\n",
      "- English Premier League Stats, 2025-26 Season - ESPN -> https://www.espn.com/soccer/stats/_/league/eng.1\n"
     ]
    }
   ],
   "source": [
    "user_query = \"Who are the top goal scorers in Premier League this week?\"\n",
    "res = ask_with_web_search(user_query, top_k=5)\n",
    "print(res[\"answer\"])\n",
    "\n",
    "print(\"\\nCitations:\")\n",
    "for c in res[\"citations\"]:\n",
    "    print(f\"- {c['title']} -> {c['url']}\")"
   ]
  },
  {
   "cell_type": "code",
   "execution_count": null,
   "id": "6dec40c2",
   "metadata": {},
   "outputs": [],
   "source": []
  }
 ],
 "metadata": {
  "kernelspec": {
   "display_name": ".venv",
   "language": "python",
   "name": "python3"
  },
  "language_info": {
   "codemirror_mode": {
    "name": "ipython",
    "version": 3
   },
   "file_extension": ".py",
   "mimetype": "text/x-python",
   "name": "python",
   "nbconvert_exporter": "python",
   "pygments_lexer": "ipython3",
   "version": "3.12.7"
  }
 },
 "nbformat": 4,
 "nbformat_minor": 5
}
