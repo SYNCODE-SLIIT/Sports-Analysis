{
 "cells": [
  {
   "cell_type": "markdown",
   "id": "796f4e18",
   "metadata": {},
   "source": [
    "# YouTube Highlight Shorts Extractor\n",
    "This notebook extracts short clips (YouTube Shorts format) from a YouTube highlight video by detecting special moments using audio spike analysis. Clips are saved as separate files for easy upload."
   ]
  },
  {
   "cell_type": "code",
   "execution_count": 21,
   "id": "911e04c7",
   "metadata": {},
   "outputs": [
    {
     "name": "stdout",
     "output_type": "stream",
     "text": [
      "Requirement already satisfied: pytube in c:\\users\\lnipu\\anaconda3\\lib\\site-packages (15.0.0)\n",
      "Requirement already satisfied: librosa in c:\\users\\lnipu\\anaconda3\\lib\\site-packages (0.11.0)\n",
      "Requirement already satisfied: numpy in c:\\users\\lnipu\\anaconda3\\lib\\site-packages (1.26.4)\n",
      "Requirement already satisfied: audioread>=2.1.9 in c:\\users\\lnipu\\anaconda3\\lib\\site-packages (from librosa) (3.0.1)\n",
      "Requirement already satisfied: numba>=0.51.0 in c:\\users\\lnipu\\anaconda3\\lib\\site-packages (from librosa) (0.60.0)\n",
      "Requirement already satisfied: scipy>=1.6.0 in c:\\users\\lnipu\\anaconda3\\lib\\site-packages (from librosa) (1.13.1)\n",
      "Requirement already satisfied: scikit-learn>=1.1.0 in c:\\users\\lnipu\\anaconda3\\lib\\site-packages (from librosa) (1.5.1)\n",
      "Requirement already satisfied: joblib>=1.0 in c:\\users\\lnipu\\anaconda3\\lib\\site-packages (from librosa) (1.4.2)\n",
      "Requirement already satisfied: decorator>=4.3.0 in c:\\users\\lnipu\\anaconda3\\lib\\site-packages (from librosa) (5.1.1)\n",
      "Requirement already satisfied: soundfile>=0.12.1 in c:\\users\\lnipu\\anaconda3\\lib\\site-packages (from librosa) (0.13.1)\n",
      "Requirement already satisfied: pooch>=1.1 in c:\\users\\lnipu\\anaconda3\\lib\\site-packages (from librosa) (1.8.2)\n",
      "Requirement already satisfied: soxr>=0.3.2 in c:\\users\\lnipu\\anaconda3\\lib\\site-packages (from librosa) (0.5.0.post1)\n",
      "Requirement already satisfied: typing_extensions>=4.1.1 in c:\\users\\lnipu\\anaconda3\\lib\\site-packages (from librosa) (4.11.0)\n",
      "Requirement already satisfied: lazy_loader>=0.1 in c:\\users\\lnipu\\anaconda3\\lib\\site-packages (from librosa) (0.4)\n",
      "Requirement already satisfied: msgpack>=1.0 in c:\\users\\lnipu\\anaconda3\\lib\\site-packages (from librosa) (1.0.3)\n",
      "Requirement already satisfied: packaging in c:\\users\\lnipu\\anaconda3\\lib\\site-packages (from lazy_loader>=0.1->librosa) (24.1)\n",
      "Requirement already satisfied: llvmlite<0.44,>=0.43.0dev0 in c:\\users\\lnipu\\anaconda3\\lib\\site-packages (from numba>=0.51.0->librosa) (0.43.0)\n",
      "Requirement already satisfied: platformdirs>=2.5.0 in c:\\users\\lnipu\\anaconda3\\lib\\site-packages (from pooch>=1.1->librosa) (3.10.0)\n",
      "Requirement already satisfied: requests>=2.19.0 in c:\\users\\lnipu\\anaconda3\\lib\\site-packages (from pooch>=1.1->librosa) (2.32.3)\n",
      "Requirement already satisfied: threadpoolctl>=3.1.0 in c:\\users\\lnipu\\anaconda3\\lib\\site-packages (from scikit-learn>=1.1.0->librosa) (3.5.0)\n",
      "Requirement already satisfied: cffi>=1.0 in c:\\users\\lnipu\\anaconda3\\lib\\site-packages (from soundfile>=0.12.1->librosa) (1.17.1)\n",
      "Requirement already satisfied: pycparser in c:\\users\\lnipu\\anaconda3\\lib\\site-packages (from cffi>=1.0->soundfile>=0.12.1->librosa) (2.21)\n",
      "Requirement already satisfied: charset-normalizer<4,>=2 in c:\\users\\lnipu\\anaconda3\\lib\\site-packages (from requests>=2.19.0->pooch>=1.1->librosa) (3.3.2)\n",
      "Requirement already satisfied: idna<4,>=2.5 in c:\\users\\lnipu\\anaconda3\\lib\\site-packages (from requests>=2.19.0->pooch>=1.1->librosa) (3.7)\n",
      "Requirement already satisfied: urllib3<3,>=1.21.1 in c:\\users\\lnipu\\anaconda3\\lib\\site-packages (from requests>=2.19.0->pooch>=1.1->librosa) (2.2.3)\n",
      "Requirement already satisfied: certifi>=2017.4.17 in c:\\users\\lnipu\\anaconda3\\lib\\site-packages (from requests>=2.19.0->pooch>=1.1->librosa) (2025.6.15)\n"
     ]
    }
   ],
   "source": [
    "# Install required packages (uncomment if needed)\n",
    "!pip install pytube librosa numpy"
   ]
  },
  {
   "cell_type": "code",
   "execution_count": 29,
   "id": "5180ecbb-38a8-4de7-867c-93a1ef162dcd",
   "metadata": {},
   "outputs": [
    {
     "name": "stdout",
     "output_type": "stream",
     "text": [
      "Collecting pytubefix\n",
      "  Downloading pytubefix-9.4.1-py3-none-any.whl.metadata (5.4 kB)\n",
      "Collecting aiohttp>=3.12.13 (from pytubefix)\n",
      "  Downloading aiohttp-3.12.15-cp312-cp312-win_amd64.whl.metadata (7.9 kB)\n",
      "Collecting aiohappyeyeballs>=2.5.0 (from aiohttp>=3.12.13->pytubefix)\n",
      "  Downloading aiohappyeyeballs-2.6.1-py3-none-any.whl.metadata (5.9 kB)\n",
      "Collecting aiosignal>=1.4.0 (from aiohttp>=3.12.13->pytubefix)\n",
      "  Downloading aiosignal-1.4.0-py3-none-any.whl.metadata (3.7 kB)\n",
      "Requirement already satisfied: attrs>=17.3.0 in c:\\users\\lnipu\\anaconda3\\lib\\site-packages (from aiohttp>=3.12.13->pytubefix) (23.1.0)\n",
      "Requirement already satisfied: frozenlist>=1.1.1 in c:\\users\\lnipu\\anaconda3\\lib\\site-packages (from aiohttp>=3.12.13->pytubefix) (1.4.0)\n",
      "Requirement already satisfied: multidict<7.0,>=4.5 in c:\\users\\lnipu\\anaconda3\\lib\\site-packages (from aiohttp>=3.12.13->pytubefix) (6.0.4)\n",
      "Collecting propcache>=0.2.0 (from aiohttp>=3.12.13->pytubefix)\n",
      "  Downloading propcache-0.3.2-cp312-cp312-win_amd64.whl.metadata (12 kB)\n",
      "Collecting yarl<2.0,>=1.17.0 (from aiohttp>=3.12.13->pytubefix)\n",
      "  Downloading yarl-1.20.1-cp312-cp312-win_amd64.whl.metadata (76 kB)\n",
      "Requirement already satisfied: typing-extensions>=4.2 in c:\\users\\lnipu\\anaconda3\\lib\\site-packages (from aiosignal>=1.4.0->aiohttp>=3.12.13->pytubefix) (4.11.0)\n",
      "Requirement already satisfied: idna>=2.0 in c:\\users\\lnipu\\anaconda3\\lib\\site-packages (from yarl<2.0,>=1.17.0->aiohttp>=3.12.13->pytubefix) (3.7)\n",
      "Downloading pytubefix-9.4.1-py3-none-any.whl (768 kB)\n",
      "   ---------------------------------------- 0.0/768.6 kB ? eta -:--:--\n",
      "   ------------- -------------------------- 262.1/768.6 kB ? eta -:--:--\n",
      "   ---------------------------------------- 768.6/768.6 kB 2.7 MB/s eta 0:00:00\n",
      "Downloading aiohttp-3.12.15-cp312-cp312-win_amd64.whl (450 kB)\n",
      "Downloading aiohappyeyeballs-2.6.1-py3-none-any.whl (15 kB)\n",
      "Downloading aiosignal-1.4.0-py3-none-any.whl (7.5 kB)\n",
      "Downloading propcache-0.3.2-cp312-cp312-win_amd64.whl (41 kB)\n",
      "Downloading yarl-1.20.1-cp312-cp312-win_amd64.whl (86 kB)\n",
      "Installing collected packages: propcache, aiosignal, aiohappyeyeballs, yarl, aiohttp, pytubefix\n",
      "  Attempting uninstall: aiosignal\n",
      "    Found existing installation: aiosignal 1.2.0\n",
      "    Uninstalling aiosignal-1.2.0:\n",
      "      Successfully uninstalled aiosignal-1.2.0\n",
      "  Attempting uninstall: aiohappyeyeballs\n",
      "    Found existing installation: aiohappyeyeballs 2.4.0\n",
      "    Uninstalling aiohappyeyeballs-2.4.0:\n",
      "      Successfully uninstalled aiohappyeyeballs-2.4.0\n",
      "  Attempting uninstall: yarl\n",
      "    Found existing installation: yarl 1.11.0\n",
      "    Uninstalling yarl-1.11.0:\n",
      "      Successfully uninstalled yarl-1.11.0\n",
      "  Attempting uninstall: aiohttp\n",
      "    Found existing installation: aiohttp 3.10.5\n",
      "    Uninstalling aiohttp-3.10.5:\n",
      "      Successfully uninstalled aiohttp-3.10.5\n",
      "Successfully installed aiohappyeyeballs-2.6.1 aiohttp-3.12.15 aiosignal-1.4.0 propcache-0.3.2 pytubefix-9.4.1 yarl-1.20.1\n"
     ]
    }
   ],
   "source": [
    "!pip install pytubefix"
   ]
  },
  {
   "cell_type": "code",
   "execution_count": 139,
   "id": "6c85cdda",
   "metadata": {},
   "outputs": [],
   "source": [
    "import os\n",
    "from pytube import YouTube\n",
    "import librosa\n",
    "import numpy as np\n",
    "import subprocess"
   ]
  },
  {
   "cell_type": "code",
   "execution_count": 141,
   "id": "dfbcd1d3",
   "metadata": {},
   "outputs": [],
   "source": [
    "# --- PARAMETERS ---\n",
    "youtube_url = 'https://www.youtube.com/watch?v=II_-tx-G0Kw'  # Replace with actual URL\n",
    "output_dir = 'highlight_shorts'\n",
    "clip_duration = 30  # seconds per short\n",
    "energy_threshold = 1.5  # Adjust for sensitivity\n",
    "os.makedirs(output_dir, exist_ok=True)"
   ]
  },
  {
   "cell_type": "code",
   "execution_count": 143,
   "id": "df345956",
   "metadata": {},
   "outputs": [
    {
     "name": "stdout",
     "output_type": "stream",
     "text": [
      "✅ Main video downloaded: highlight_shorts\\video.mp4\n"
     ]
    }
   ],
   "source": [
    "# --- Download main video file if not present ---\n",
    "\n",
    "from pytubefix import YouTube\n",
    "\n",
    "import os\n",
    "\n",
    "\n",
    "\n",
    "video_path = os.path.join(output_dir, 'video.mp4')\n",
    "\n",
    "if not os.path.exists(video_path):\n",
    "\n",
    "    yt = YouTube(youtube_url)\n",
    "\n",
    "    video_stream = yt.streams.filter(progressive=True, file_extension='mp4').order_by('resolution').desc().first()\n",
    "\n",
    "    video_stream.download(output_path=output_dir, filename='video.mp4')\n",
    "\n",
    "    print(f\"✅ Main video downloaded: {video_path}\")\n",
    "\n",
    "else:\n",
    "\n",
    "    print(f\"✅ Main video already exists: {video_path}\")"
   ]
  },
  {
   "cell_type": "code",
   "execution_count": 145,
   "id": "72646cc5",
   "metadata": {},
   "outputs": [
    {
     "name": "stdout",
     "output_type": "stream",
     "text": [
      "Downloading audio stream...\n",
      "Using YouTube URL: https://www.youtube.com/watch?v=II_-tx-G0Kw\n",
      "Audio downloaded successfully: highlight_shorts\\audio.mp4\n"
     ]
    }
   ],
   "source": [
    "# --- STEP 1: Download audio only (fast, low data) ---\n",
    "import os\n",
    "from pytubefix import YouTube\n",
    "\n",
    "print(\"Downloading audio stream...\")\n",
    "\n",
    "try:\n",
    "    # 1. Confirm URL\n",
    "    print(f\"Using YouTube URL: {youtube_url}\")\n",
    "\n",
    "    # 2. Create YouTube object\n",
    "    yt = YouTube(youtube_url)\n",
    "\n",
    "    # 3. Filter for audio-only streams\n",
    "    audio_stream = yt.streams.filter(only_audio=True).first()\n",
    "    if audio_stream is None:\n",
    "        raise ValueError(\"No audio-only stream found for this video.\")\n",
    "\n",
    "    # 4. Ensure output directory exists\n",
    "    os.makedirs(output_dir, exist_ok=True)\n",
    "\n",
    "    # 5. Download\n",
    "    audio_path = os.path.join(output_dir, \"audio.mp4\")\n",
    "    audio_stream.download(output_path=output_dir, filename=\"audio.mp4\")\n",
    "\n",
    "    print(f\"Audio downloaded successfully: {audio_path}\")\n",
    "\n",
    "except Exception as e:\n",
    "    print(f\"Error downloading audio: {e}\")\n"
   ]
  },
  {
   "cell_type": "code",
   "execution_count": 147,
   "id": "0d5b763f",
   "metadata": {},
   "outputs": [
    {
     "name": "stdout",
     "output_type": "stream",
     "text": [
      "Analyzing audio for special moments...\n"
     ]
    },
    {
     "name": "stderr",
     "output_type": "stream",
     "text": [
      "C:\\Users\\lnipu\\AppData\\Local\\Temp\\ipykernel_31096\\3562809605.py:3: UserWarning: PySoundFile failed. Trying audioread instead.\n",
      "  y, sr = librosa.load(audio_path, sr=None)\n"
     ]
    }
   ],
   "source": [
    "# --- STEP 2: Analyze audio for spikes (special moments) ---\n",
    "print('Analyzing audio for special moments...')\n",
    "y, sr = librosa.load(audio_path, sr=None)\n",
    "frame_length = sr  # 1 second frames\n",
    "hop_length = sr // 2\n",
    "energy = np.array([\n",
    "    np.sum(np.abs(y[i:i+frame_length]))\n",
    "    for i in range(0, len(y), hop_length)\n",
    "])\n",
    "mean_energy = np.mean(energy)\n",
    "special_indices = np.where(energy > energy_threshold * mean_energy)[0]\n",
    "special_times = [int(i * hop_length / sr) for i in special_indices]"
   ]
  },
  {
   "cell_type": "code",
   "execution_count": 149,
   "id": "eaefe8cd",
   "metadata": {},
   "outputs": [
    {
     "name": "stdout",
     "output_type": "stream",
     "text": [
      "After merging and aligning, 4 shorts will be created.\n",
      "Saved: highlight_shorts\\pro_short_01.mp4\n",
      "Saved: highlight_shorts\\pro_short_02.mp4\n",
      "Saved: highlight_shorts\\pro_short_03.mp4\n",
      "Saved: highlight_shorts\\pro_short_04.mp4\n",
      "All professional, scene-aligned shorts extracted!\n"
     ]
    }
   ],
   "source": [
    "# --- OPTIMIZED STEP 3: Professional Highlight Shorts Extraction ---\n",
    "\n",
    "# This cell merges nearby highlight moments, aligns shorts to scene boundaries to avoid cut-off scenes, and extracts only the necessary video segments.\n",
    "# Increase min_gap_seconds for fewer, more meaningful shorts (default: 45 seconds).\n",
    "\n",
    "import numpy as np\n",
    "\n",
    "import subprocess\n",
    "\n",
    "\n",
    "\n",
    "min_gap_seconds = 45  # Minimum gap between shorts (in seconds, increase to reduce shorts)\n",
    "\n",
    "clip_duration = 30    # Duration of each short (in seconds, adjust as needed)\n",
    "\n",
    "\n",
    "\n",
    "# Use detected highlight moments and scene changes (should be defined in previous cells)\n",
    "\n",
    "if 'final_moments' in globals() and final_moments:\n",
    "\n",
    "    moments_list = sorted(final_moments)\n",
    "\n",
    "elif 'special_times' in globals() and special_times:\n",
    "\n",
    "    moments_list = sorted(special_times)\n",
    "\n",
    "else:\n",
    "\n",
    "    raise ValueError('No highlight moments found. Run detection cells first.')\n",
    "\n",
    "\n",
    "\n",
    "# If scene_changes is available, align shorts to nearest scene boundary to avoid cut-off scenes\n",
    "\n",
    "def align_to_scene(moment, scene_changes):\n",
    "\n",
    "    # Find the closest scene change before the moment\n",
    "\n",
    "    scene_changes = np.array(scene_changes)\n",
    "\n",
    "    before = scene_changes[scene_changes <= moment]\n",
    "    if len(before) > 0:\n",
    "        return before[-1]\n",
    "    return moment\n",
    "\n",
    "\n",
    "if 'scene_changes' in globals() and scene_changes:\n",
    "\n",
    "    aligned_moments = [align_to_scene(m, scene_changes) for m in moments_list]\n",
    "else:\n",
    "    aligned_moments = moments_list\n",
    "\n",
    "\n",
    "# Merge moments that are too close together\n",
    "\n",
    "merged_moments = []\n",
    "\n",
    "for moment in aligned_moments:\n",
    "\n",
    "    if not merged_moments or moment - merged_moments[-1] >= min_gap_seconds:\n",
    "\n",
    "        merged_moments.append(moment)\n",
    "\n",
    "\n",
    "\n",
    "print(f'After merging and aligning, {len(merged_moments)} shorts will be created.')\n",
    "\n",
    "\n",
    "\n",
    "# --- Extract shorts with optimized, scene-aligned moments ---\n",
    "\n",
    "for idx, moment in enumerate(merged_moments):\n",
    "\n",
    "    start = max(0, moment)  # Start at scene boundary or moment\n",
    "\n",
    "    out_clip = os.path.join(output_dir, f'pro_short_{idx+1:02d}.mp4')\n",
    "\n",
    "    cmd = [\n",
    "\n",
    "        'ffmpeg', '-y',\n",
    "\n",
    "        '-i', video_path,\n",
    "\n",
    "        '-ss', str(start),\n",
    "\n",
    "        '-t', str(clip_duration),\n",
    "\n",
    "        '-c:v', 'libx264',\n",
    "\n",
    "        '-c:a', 'aac',\n",
    "\n",
    "        out_clip\n",
    "\n",
    "    ]\n",
    "\n",
    "    subprocess.run(cmd, stdout=subprocess.PIPE, stderr=subprocess.PIPE)\n",
    "\n",
    "    print(f'Saved: {out_clip}')\n",
    "\n",
    "print('All professional, scene-aligned shorts extracted!')"
   ]
  },
  {
   "cell_type": "code",
   "execution_count": null,
   "id": "ff535d6e-da08-4a42-a31a-a295ead7fa22",
   "metadata": {},
   "outputs": [],
   "source": []
  }
 ],
 "metadata": {
  "kernelspec": {
   "display_name": "Python [conda env:base] *",
   "language": "python",
   "name": "conda-base-py"
  },
  "language_info": {
   "codemirror_mode": {
    "name": "ipython",
    "version": 3
   },
   "file_extension": ".py",
   "mimetype": "text/x-python",
   "name": "python",
   "nbconvert_exporter": "python",
   "pygments_lexer": "ipython3",
   "version": "3.12.3"
  }
 },
 "nbformat": 4,
 "nbformat_minor": 5
}
